{
 "cells": [
  {
   "cell_type": "code",
   "execution_count": 1,
   "id": "f099bcd5",
   "metadata": {},
   "outputs": [
    {
     "name": "stderr",
     "output_type": "stream",
     "text": [
      "2022-09-13 18:51:19.827512: I tensorflow/core/util/util.cc:169] oneDNN custom operations are on. You may see slightly different numerical results due to floating-point round-off errors from different computation orders. To turn them off, set the environment variable `TF_ENABLE_ONEDNN_OPTS=0`.\n",
      "2022-09-13 18:51:19.882938: W tensorflow/stream_executor/platform/default/dso_loader.cc:64] Could not load dynamic library 'libcudart.so.11.0'; dlerror: libcudart.so.11.0: cannot open shared object file: No such file or directory\n",
      "2022-09-13 18:51:19.882955: I tensorflow/stream_executor/cuda/cudart_stub.cc:29] Ignore above cudart dlerror if you do not have a GPU set up on your machine.\n"
     ]
    }
   ],
   "source": [
    "import pandas as pd\n",
    "import numpy as np\n",
    "import tensorflow as tf\n",
    "from tensorflow.keras import layers\n",
    "from tensorflow.keras.models import Sequential\n",
    "from tensorflow.keras.preprocessing.text import Tokenizer\n",
    "from tensorflow.keras.preprocessing.sequence import pad_sequences\n",
    "from sklearn.model_selection import train_test_split\n",
    "from sklearn.metrics import confusion_matrix\n",
    "import matplotlib.pyplot as plt\n",
    "import seaborn as sns\n",
    "sns.set()"
   ]
  },
  {
   "cell_type": "code",
   "execution_count": 2,
   "id": "45e96d07",
   "metadata": {},
   "outputs": [
    {
     "data": {
      "text/html": [
       "<div>\n",
       "<style scoped>\n",
       "    .dataframe tbody tr th:only-of-type {\n",
       "        vertical-align: middle;\n",
       "    }\n",
       "\n",
       "    .dataframe tbody tr th {\n",
       "        vertical-align: top;\n",
       "    }\n",
       "\n",
       "    .dataframe thead th {\n",
       "        text-align: right;\n",
       "    }\n",
       "</style>\n",
       "<table border=\"1\" class=\"dataframe\">\n",
       "  <thead>\n",
       "    <tr style=\"text-align: right;\">\n",
       "      <th></th>\n",
       "      <th>email</th>\n",
       "      <th>label</th>\n",
       "    </tr>\n",
       "  </thead>\n",
       "  <tbody>\n",
       "    <tr>\n",
       "      <th>0</th>\n",
       "      <td>date wed NUMBER aug NUMBER NUMBER NUMBER NUMB...</td>\n",
       "      <td>0</td>\n",
       "    </tr>\n",
       "    <tr>\n",
       "      <th>1</th>\n",
       "      <td>martin a posted tassos papadopoulos the greek ...</td>\n",
       "      <td>0</td>\n",
       "    </tr>\n",
       "    <tr>\n",
       "      <th>2</th>\n",
       "      <td>man threatens explosion in moscow thursday aug...</td>\n",
       "      <td>0</td>\n",
       "    </tr>\n",
       "    <tr>\n",
       "      <th>3</th>\n",
       "      <td>klez the virus that won t die already the most...</td>\n",
       "      <td>0</td>\n",
       "    </tr>\n",
       "    <tr>\n",
       "      <th>4</th>\n",
       "      <td>in adding cream to spaghetti carbonara which ...</td>\n",
       "      <td>0</td>\n",
       "    </tr>\n",
       "    <tr>\n",
       "      <th>...</th>\n",
       "      <td>...</td>\n",
       "      <td>...</td>\n",
       "    </tr>\n",
       "    <tr>\n",
       "      <th>2995</th>\n",
       "      <td>abc s good morning america ranks it the NUMBE...</td>\n",
       "      <td>1</td>\n",
       "    </tr>\n",
       "    <tr>\n",
       "      <th>2996</th>\n",
       "      <td>hyperlink hyperlink hyperlink let mortgage le...</td>\n",
       "      <td>1</td>\n",
       "    </tr>\n",
       "    <tr>\n",
       "      <th>2997</th>\n",
       "      <td>thank you for shopping with us gifts for all ...</td>\n",
       "      <td>1</td>\n",
       "    </tr>\n",
       "    <tr>\n",
       "      <th>2998</th>\n",
       "      <td>the famous ebay marketing e course learn to s...</td>\n",
       "      <td>1</td>\n",
       "    </tr>\n",
       "    <tr>\n",
       "      <th>2999</th>\n",
       "      <td>hello this is chinese traditional 子 件 NUMBER世...</td>\n",
       "      <td>1</td>\n",
       "    </tr>\n",
       "  </tbody>\n",
       "</table>\n",
       "<p>3000 rows × 2 columns</p>\n",
       "</div>"
      ],
      "text/plain": [
       "                                                  email  label\n",
       "0      date wed NUMBER aug NUMBER NUMBER NUMBER NUMB...      0\n",
       "1     martin a posted tassos papadopoulos the greek ...      0\n",
       "2     man threatens explosion in moscow thursday aug...      0\n",
       "3     klez the virus that won t die already the most...      0\n",
       "4      in adding cream to spaghetti carbonara which ...      0\n",
       "...                                                 ...    ...\n",
       "2995   abc s good morning america ranks it the NUMBE...      1\n",
       "2996   hyperlink hyperlink hyperlink let mortgage le...      1\n",
       "2997   thank you for shopping with us gifts for all ...      1\n",
       "2998   the famous ebay marketing e course learn to s...      1\n",
       "2999   hello this is chinese traditional 子 件 NUMBER世...      1\n",
       "\n",
       "[3000 rows x 2 columns]"
      ]
     },
     "execution_count": 2,
     "metadata": {},
     "output_type": "execute_result"
    }
   ],
   "source": [
    "data = pd.read_csv(\"datasets/spam_or_not_spam.csv\")\n",
    "data"
   ]
  },
  {
   "cell_type": "code",
   "execution_count": 3,
   "id": "9031485e",
   "metadata": {},
   "outputs": [],
   "source": [
    "data.dropna(inplace=True)"
   ]
  },
  {
   "cell_type": "code",
   "execution_count": 4,
   "id": "029ca300",
   "metadata": {},
   "outputs": [],
   "source": [
    "X = data[\"email\"].values\n",
    "y = data[\"label\"].values\n",
    "\n",
    "X_train, X_test, y_train, y_test = train_test_split(X, y, test_size=0.2)"
   ]
  },
  {
   "cell_type": "code",
   "execution_count": 5,
   "id": "eba791b1",
   "metadata": {},
   "outputs": [],
   "source": [
    "tokenizer = Tokenizer(num_words=250, oov_token=\"x\")\n",
    "tokenizer.fit_on_texts(X_train)\n",
    "\n",
    "kalimat_train = tokenizer.texts_to_sequences(X_train)\n",
    "kalimat_test = tokenizer.texts_to_sequences(X_test)\n",
    "\n",
    "pading_train = pad_sequences(kalimat_train)\n",
    "pading_test = pad_sequences(kalimat_test)"
   ]
  },
  {
   "cell_type": "code",
   "execution_count": 6,
   "id": "b9546fd3",
   "metadata": {},
   "outputs": [
    {
     "name": "stderr",
     "output_type": "stream",
     "text": [
      "2022-09-13 18:51:24.489344: W tensorflow/stream_executor/platform/default/dso_loader.cc:64] Could not load dynamic library 'libcuda.so.1'; dlerror: libcuda.so.1: cannot open shared object file: No such file or directory\n",
      "2022-09-13 18:51:24.489367: W tensorflow/stream_executor/cuda/cuda_driver.cc:269] failed call to cuInit: UNKNOWN ERROR (303)\n",
      "2022-09-13 18:51:24.489399: I tensorflow/stream_executor/cuda/cuda_diagnostics.cc:156] kernel driver does not appear to be running on this host (parrot-swiftsf31459): /proc/driver/nvidia/version does not exist\n",
      "2022-09-13 18:51:24.489720: I tensorflow/core/platform/cpu_feature_guard.cc:193] This TensorFlow binary is optimized with oneAPI Deep Neural Network Library (oneDNN) to use the following CPU instructions in performance-critical operations:  AVX2 AVX512F AVX512_VNNI FMA\n",
      "To enable them in other operations, rebuild TensorFlow with the appropriate compiler flags.\n"
     ]
    }
   ],
   "source": [
    "model = Sequential([\n",
    "    layers.Embedding(250, 16),\n",
    "    layers.GlobalAveragePooling1D(),\n",
    "    layers.Dense(64, activation=\"relu\"),\n",
    "    layers.Dropout(0.3),\n",
    "    layers.Dense(64, activation=\"relu\"),\n",
    "    layers.Dropout(0.3),\n",
    "    layers.Dense(1, activation=\"sigmoid\")\n",
    "])"
   ]
  },
  {
   "cell_type": "code",
   "execution_count": 31,
   "id": "98f2666c",
   "metadata": {},
   "outputs": [],
   "source": [
    "model.compile(\n",
    "    loss=\"binary_crossentropy\",\n",
    "    optimizer=tf.keras.optimizers.Adam(learning_rate=0.001),\n",
    "    metrics=[\"accuracy\"]\n",
    ")"
   ]
  },
  {
   "cell_type": "code",
   "execution_count": 32,
   "id": "2356d250",
   "metadata": {
    "scrolled": true
   },
   "outputs": [
    {
     "name": "stdout",
     "output_type": "stream",
     "text": [
      "Epoch 1/40\n",
      "75/75 - 2s - loss: 0.5508 - accuracy: 0.8220 - val_loss: 0.4483 - val_accuracy: 0.8333 - 2s/epoch - 27ms/step\n",
      "Epoch 2/40\n",
      "75/75 - 1s - loss: 0.4535 - accuracy: 0.8337 - val_loss: 0.4470 - val_accuracy: 0.8333 - 1s/epoch - 17ms/step\n",
      "Epoch 3/40\n",
      "75/75 - 1s - loss: 0.4583 - accuracy: 0.8337 - val_loss: 0.4470 - val_accuracy: 0.8333 - 1s/epoch - 15ms/step\n",
      "Epoch 4/40\n",
      "75/75 - 1s - loss: 0.4529 - accuracy: 0.8337 - val_loss: 0.4455 - val_accuracy: 0.8333 - 1s/epoch - 14ms/step\n",
      "Epoch 5/40\n",
      "75/75 - 1s - loss: 0.4594 - accuracy: 0.8337 - val_loss: 0.4438 - val_accuracy: 0.8333 - 1s/epoch - 15ms/step\n",
      "Epoch 6/40\n",
      "75/75 - 1s - loss: 0.4547 - accuracy: 0.8337 - val_loss: 0.4439 - val_accuracy: 0.8333 - 1s/epoch - 14ms/step\n",
      "Epoch 7/40\n",
      "75/75 - 1s - loss: 0.4584 - accuracy: 0.8337 - val_loss: 0.4450 - val_accuracy: 0.8333 - 1s/epoch - 15ms/step\n",
      "Epoch 8/40\n",
      "75/75 - 1s - loss: 0.4553 - accuracy: 0.8337 - val_loss: 0.4414 - val_accuracy: 0.8333 - 1s/epoch - 14ms/step\n",
      "Epoch 9/40\n",
      "75/75 - 1s - loss: 0.4531 - accuracy: 0.8337 - val_loss: 0.4398 - val_accuracy: 0.8333 - 1s/epoch - 14ms/step\n",
      "Epoch 10/40\n",
      "75/75 - 1s - loss: 0.4554 - accuracy: 0.8337 - val_loss: 0.4416 - val_accuracy: 0.8333 - 1s/epoch - 14ms/step\n",
      "Epoch 11/40\n",
      "75/75 - 1s - loss: 0.4517 - accuracy: 0.8337 - val_loss: 0.4378 - val_accuracy: 0.8333 - 1s/epoch - 14ms/step\n",
      "Epoch 12/40\n",
      "75/75 - 1s - loss: 0.4484 - accuracy: 0.8337 - val_loss: 0.4404 - val_accuracy: 0.8333 - 1s/epoch - 14ms/step\n",
      "Epoch 13/40\n",
      "75/75 - 1s - loss: 0.4494 - accuracy: 0.8337 - val_loss: 0.4362 - val_accuracy: 0.8333 - 1s/epoch - 13ms/step\n",
      "Epoch 14/40\n",
      "75/75 - 1s - loss: 0.4441 - accuracy: 0.8337 - val_loss: 0.4289 - val_accuracy: 0.8333 - 1s/epoch - 14ms/step\n",
      "Epoch 15/40\n",
      "75/75 - 1s - loss: 0.4438 - accuracy: 0.8337 - val_loss: 0.4363 - val_accuracy: 0.8333 - 1s/epoch - 14ms/step\n",
      "Epoch 16/40\n",
      "75/75 - 1s - loss: 0.4475 - accuracy: 0.8337 - val_loss: 0.4304 - val_accuracy: 0.8333 - 1s/epoch - 14ms/step\n",
      "Epoch 17/40\n",
      "75/75 - 1s - loss: 0.4442 - accuracy: 0.8337 - val_loss: 0.4241 - val_accuracy: 0.8333 - 1s/epoch - 14ms/step\n",
      "Epoch 18/40\n",
      "75/75 - 1s - loss: 0.4341 - accuracy: 0.8337 - val_loss: 0.4078 - val_accuracy: 0.8333 - 1s/epoch - 14ms/step\n",
      "Epoch 19/40\n",
      "75/75 - 1s - loss: 0.4429 - accuracy: 0.8337 - val_loss: 0.4112 - val_accuracy: 0.8333 - 1s/epoch - 14ms/step\n",
      "Epoch 20/40\n",
      "75/75 - 1s - loss: 0.4316 - accuracy: 0.8337 - val_loss: 0.4130 - val_accuracy: 0.8333 - 1s/epoch - 14ms/step\n",
      "Epoch 21/40\n",
      "75/75 - 1s - loss: 0.4314 - accuracy: 0.8337 - val_loss: 0.4092 - val_accuracy: 0.8333 - 1s/epoch - 14ms/step\n",
      "Epoch 22/40\n",
      "75/75 - 1s - loss: 0.4227 - accuracy: 0.8345 - val_loss: 0.3713 - val_accuracy: 0.8483 - 1s/epoch - 14ms/step\n",
      "Epoch 23/40\n",
      "75/75 - 1s - loss: 0.4067 - accuracy: 0.8387 - val_loss: 0.3283 - val_accuracy: 0.8767 - 1s/epoch - 15ms/step\n",
      "Epoch 24/40\n",
      "75/75 - 1s - loss: 0.3776 - accuracy: 0.8420 - val_loss: 0.2485 - val_accuracy: 0.9317 - 1s/epoch - 14ms/step\n",
      "Epoch 25/40\n",
      "75/75 - 1s - loss: 0.3412 - accuracy: 0.8591 - val_loss: 0.1603 - val_accuracy: 0.9517 - 1s/epoch - 14ms/step\n",
      "Epoch 26/40\n",
      "75/75 - 1s - loss: 0.2948 - accuracy: 0.8841 - val_loss: 0.1795 - val_accuracy: 0.9533 - 1s/epoch - 16ms/step\n",
      "Epoch 27/40\n",
      "75/75 - 1s - loss: 0.2624 - accuracy: 0.9008 - val_loss: 0.1179 - val_accuracy: 0.9650 - 1s/epoch - 16ms/step\n",
      "Epoch 28/40\n",
      "75/75 - 1s - loss: 0.2317 - accuracy: 0.9233 - val_loss: 0.1274 - val_accuracy: 0.9517 - 1s/epoch - 16ms/step\n",
      "Epoch 29/40\n",
      "75/75 - 1s - loss: 0.1989 - accuracy: 0.9371 - val_loss: 0.1105 - val_accuracy: 0.9600 - 1s/epoch - 15ms/step\n",
      "Epoch 30/40\n",
      "75/75 - 1s - loss: 0.1819 - accuracy: 0.9391 - val_loss: 0.1157 - val_accuracy: 0.9483 - 1s/epoch - 16ms/step\n",
      "Epoch 31/40\n",
      "75/75 - 1s - loss: 0.1458 - accuracy: 0.9571 - val_loss: 0.0906 - val_accuracy: 0.9717 - 1s/epoch - 16ms/step\n",
      "Epoch 32/40\n",
      "75/75 - 1s - loss: 0.1454 - accuracy: 0.9546 - val_loss: 0.1022 - val_accuracy: 0.9617 - 1s/epoch - 15ms/step\n",
      "Epoch 33/40\n",
      "75/75 - 1s - loss: 0.1328 - accuracy: 0.9617 - val_loss: 0.0851 - val_accuracy: 0.9717 - 1s/epoch - 14ms/step\n",
      "Epoch 34/40\n",
      "75/75 - 1s - loss: 0.1266 - accuracy: 0.9608 - val_loss: 0.1038 - val_accuracy: 0.9567 - 1s/epoch - 16ms/step\n",
      "Epoch 35/40\n",
      "75/75 - 1s - loss: 0.1428 - accuracy: 0.9587 - val_loss: 0.0839 - val_accuracy: 0.9783 - 1s/epoch - 16ms/step\n",
      "Epoch 36/40\n",
      "75/75 - 1s - loss: 0.1186 - accuracy: 0.9646 - val_loss: 0.1083 - val_accuracy: 0.9567 - 1s/epoch - 14ms/step\n",
      "Epoch 37/40\n",
      "75/75 - 1s - loss: 0.1050 - accuracy: 0.9683 - val_loss: 0.0904 - val_accuracy: 0.9733 - 1s/epoch - 15ms/step\n",
      "Epoch 38/40\n",
      "75/75 - 1s - loss: 0.1239 - accuracy: 0.9654 - val_loss: 0.0787 - val_accuracy: 0.9767 - 1s/epoch - 13ms/step\n",
      "Epoch 39/40\n",
      "75/75 - 1s - loss: 0.1076 - accuracy: 0.9700 - val_loss: 0.0883 - val_accuracy: 0.9733 - 1s/epoch - 14ms/step\n",
      "Epoch 40/40\n",
      "75/75 - 1s - loss: 0.0933 - accuracy: 0.9708 - val_loss: 0.1012 - val_accuracy: 0.9617 - 1s/epoch - 14ms/step\n"
     ]
    }
   ],
   "source": [
    "history = model.fit(pading_train, y_train, \n",
    "                    validation_data=(pading_test, y_test), \n",
    "                    epochs=40, verbose=2)"
   ]
  },
  {
   "cell_type": "code",
   "execution_count": 33,
   "id": "de5a0173",
   "metadata": {},
   "outputs": [
    {
     "data": {
      "image/png": "[encoded data removed]",
      "text/plain": [
       "<Figure size 864x576 with 4 Axes>"
      ]
     },
     "metadata": {},
     "output_type": "display_data"
    }
   ],
   "source": [
    "fig, ((ax1, ax2), (ax3, ax4)) = plt.subplots(2,2, figsize=(12,8))\n",
    "ax1.plot(history.history[\"accuracy\"])\n",
    "ax1.set_title(\"Akurasi\")\n",
    "ax1.set_xlabel(\"Waktu train\")\n",
    "ax1.set_ylabel(\"Akurasi\")\n",
    "\n",
    "ax2.plot(history.history[\"val_accuracy\"], \"r--\")\n",
    "ax2.set_title(\"Val Akurasi\")\n",
    "ax2.set_xlabel(\"Waktu train\")\n",
    "ax2.set_ylabel(\"Val Akurasi\")\n",
    "\n",
    "ax3.plot(history.history[\"loss\"])\n",
    "ax3.set_title(\"Loss\")\n",
    "ax3.set_xlabel(\"Waktu train\")\n",
    "ax3.set_ylabel(\"Loss\")\n",
    "\n",
    "ax4.plot(history.history[\"val_loss\"], \"r--\")\n",
    "ax4.set_title(\"Val Loss\")\n",
    "ax4.set_xlabel(\"Waktu train\")\n",
    "ax4.set_ylabel(\"Val Loss\")\n",
    "plt.tight_layout()"
   ]
  },
  {
   "cell_type": "code",
   "execution_count": 39,
   "id": "37117e3e",
   "metadata": {},
   "outputs": [
    {
     "name": "stdout",
     "output_type": "stream",
     "text": [
      "1/1 [==============================] - 0s 12ms/step\n"
     ]
    },
    {
     "data": {
      "text/plain": [
       "array([[0.]], dtype=float32)"
      ]
     },
     "execution_count": 39,
     "metadata": {},
     "output_type": "execute_result"
    }
   ],
   "source": [
    "teks = [\n",
    "    \"hendri\"\n",
    "]\n",
    "\n",
    "tokenizer.fit_on_texts(teks)\n",
    "kalimat_teks = tokenizer.texts_to_sequences(teks)\n",
    "pading_teks = pad_sequences(kalimat_teks)\n",
    "\n",
    "y_pred = model.predict(pading_teks)\n",
    "\n",
    "y_pred = np.round(y_pred).reshape(1,-1)\n",
    "y_pred"
   ]
  },
  {
   "cell_type": "code",
   "execution_count": 35,
   "id": "d0dd5428",
   "metadata": {},
   "outputs": [
    {
     "name": "stdout",
     "output_type": "stream",
     "text": [
      "19/19 [==============================] - 0s 1ms/step\n"
     ]
    },
    {
     "data": {
      "text/plain": [
       "array([[482,  18],\n",
       "       [  5,  95]])"
      ]
     },
     "execution_count": 35,
     "metadata": {},
     "output_type": "execute_result"
    }
   ],
   "source": [
    "y_pred = model.predict(pading_test)\n",
    "y_pred = np.round(y_pred)\n",
    " \n",
    "confusion_matrix(y_test, y_pred)"
   ]
  },
  {
   "cell_type": "code",
   "execution_count": 12,
   "id": "fd1a3aac",
   "metadata": {},
   "outputs": [
    {
     "name": "stdout",
     "output_type": "stream",
     "text": [
      "19/19 [==============================] - 0s 4ms/step - loss: 0.1260 - accuracy: 0.9583\n"
     ]
    },
    {
     "data": {
      "text/plain": [
       "[0.12599076330661774, 0.9583333134651184]"
      ]
     },
     "execution_count": 12,
     "metadata": {},
     "output_type": "execute_result"
    }
   ],
   "source": [
    "model.evaluate(pading_test,y_test)"
   ]
  },
  {
   "cell_type": "code",
   "execution_count": 13,
   "id": "82bc33b9",
   "metadata": {},
   "outputs": [
    {
     "data": {
      "text/html": [
       "<div>\n",
       "<style scoped>\n",
       "    .dataframe tbody tr th:only-of-type {\n",
       "        vertical-align: middle;\n",
       "    }\n",
       "\n",
       "    .dataframe tbody tr th {\n",
       "        vertical-align: top;\n",
       "    }\n",
       "\n",
       "    .dataframe thead th {\n",
       "        text-align: right;\n",
       "    }\n",
       "</style>\n",
       "<table border=\"1\" class=\"dataframe\">\n",
       "  <thead>\n",
       "    <tr style=\"text-align: right;\">\n",
       "      <th></th>\n",
       "      <th>email</th>\n",
       "      <th>label</th>\n",
       "    </tr>\n",
       "  </thead>\n",
       "  <tbody>\n",
       "    <tr>\n",
       "      <th>10</th>\n",
       "      <td>hello have you seen and discussed this article...</td>\n",
       "      <td>0</td>\n",
       "    </tr>\n",
       "    <tr>\n",
       "      <th>11</th>\n",
       "      <td>yes great minds think alike but even withput e...</td>\n",
       "      <td>0</td>\n",
       "    </tr>\n",
       "    <tr>\n",
       "      <th>12</th>\n",
       "      <td>on mon aug NUMBER NUMBER at NUMBER NUMBER NUMB...</td>\n",
       "      <td>0</td>\n",
       "    </tr>\n",
       "    <tr>\n",
       "      <th>13</th>\n",
       "      <td>from chris garrigues cwg exmh deepeddy com da...</td>\n",
       "      <td>0</td>\n",
       "    </tr>\n",
       "    <tr>\n",
       "      <th>14</th>\n",
       "      <td>spamassassin is hurting democracy owen URL int...</td>\n",
       "      <td>0</td>\n",
       "    </tr>\n",
       "    <tr>\n",
       "      <th>15</th>\n",
       "      <td>hi all apologies for the possible silly questi...</td>\n",
       "      <td>0</td>\n",
       "    </tr>\n",
       "    <tr>\n",
       "      <th>16</th>\n",
       "      <td>in forteana y d mcmann dmcmann b wrote robert...</td>\n",
       "      <td>0</td>\n",
       "    </tr>\n",
       "    <tr>\n",
       "      <th>17</th>\n",
       "      <td>in a nutshell solaris is suns own flavour of u...</td>\n",
       "      <td>0</td>\n",
       "    </tr>\n",
       "    <tr>\n",
       "      <th>18</th>\n",
       "      <td>apols if this has been posted before URL rob y...</td>\n",
       "      <td>0</td>\n",
       "    </tr>\n",
       "    <tr>\n",
       "      <th>19</th>\n",
       "      <td>can someone explain what type of operating sys...</td>\n",
       "      <td>0</td>\n",
       "    </tr>\n",
       "    <tr>\n",
       "      <th>20</th>\n",
       "      <td>apols if this has been posted before URL so a...</td>\n",
       "      <td>0</td>\n",
       "    </tr>\n",
       "    <tr>\n",
       "      <th>21</th>\n",
       "      <td>on thu aug NUMBER NUMBER at NUMBER NUMBER NUMB...</td>\n",
       "      <td>0</td>\n",
       "    </tr>\n",
       "    <tr>\n",
       "      <th>22</th>\n",
       "      <td>john p looney wrote on thu aug NUMBER NUMBER a...</td>\n",
       "      <td>0</td>\n",
       "    </tr>\n",
       "    <tr>\n",
       "      <th>23</th>\n",
       "      <td>hey it s not easy being green leslie leslie el...</td>\n",
       "      <td>0</td>\n",
       "    </tr>\n",
       "    <tr>\n",
       "      <th>24</th>\n",
       "      <td>on thu NUMBER aug NUMBER john p looney wrote ...</td>\n",
       "      <td>0</td>\n",
       "    </tr>\n",
       "    <tr>\n",
       "      <th>25</th>\n",
       "      <td>you have multiple generations of peasants squ...</td>\n",
       "      <td>0</td>\n",
       "    </tr>\n",
       "    <tr>\n",
       "      <th>26</th>\n",
       "      <td>folks my first time posting have a bit of unix...</td>\n",
       "      <td>0</td>\n",
       "    </tr>\n",
       "    <tr>\n",
       "      <th>27</th>\n",
       "      <td>on thu NUMBER aug NUMBER joseph s barrera iii ...</td>\n",
       "      <td>0</td>\n",
       "    </tr>\n",
       "    <tr>\n",
       "      <th>28</th>\n",
       "      <td>joseph s barrera iii wrote chris haun wrote a ...</td>\n",
       "      <td>0</td>\n",
       "    </tr>\n",
       "    <tr>\n",
       "      <th>29</th>\n",
       "      <td>update on this for anyone that s interested an...</td>\n",
       "      <td>0</td>\n",
       "    </tr>\n",
       "    <tr>\n",
       "      <th>30</th>\n",
       "      <td>has anyone seen heard of used some package tha...</td>\n",
       "      <td>0</td>\n",
       "    </tr>\n",
       "  </tbody>\n",
       "</table>\n",
       "</div>"
      ],
      "text/plain": [
       "                                                email  label\n",
       "10  hello have you seen and discussed this article...      0\n",
       "11  yes great minds think alike but even withput e...      0\n",
       "12  on mon aug NUMBER NUMBER at NUMBER NUMBER NUMB...      0\n",
       "13   from chris garrigues cwg exmh deepeddy com da...      0\n",
       "14  spamassassin is hurting democracy owen URL int...      0\n",
       "15  hi all apologies for the possible silly questi...      0\n",
       "16   in forteana y d mcmann dmcmann b wrote robert...      0\n",
       "17  in a nutshell solaris is suns own flavour of u...      0\n",
       "18  apols if this has been posted before URL rob y...      0\n",
       "19  can someone explain what type of operating sys...      0\n",
       "20   apols if this has been posted before URL so a...      0\n",
       "21  on thu aug NUMBER NUMBER at NUMBER NUMBER NUMB...      0\n",
       "22  john p looney wrote on thu aug NUMBER NUMBER a...      0\n",
       "23  hey it s not easy being green leslie leslie el...      0\n",
       "24   on thu NUMBER aug NUMBER john p looney wrote ...      0\n",
       "25   you have multiple generations of peasants squ...      0\n",
       "26  folks my first time posting have a bit of unix...      0\n",
       "27  on thu NUMBER aug NUMBER joseph s barrera iii ...      0\n",
       "28  joseph s barrera iii wrote chris haun wrote a ...      0\n",
       "29  update on this for anyone that s interested an...      0\n",
       "30  has anyone seen heard of used some package tha...      0"
      ]
     },
     "execution_count": 13,
     "metadata": {},
     "output_type": "execute_result"
    }
   ],
   "source": [
    "data[(data[\"label\"] == 0)].iloc[10:31]"
   ]
  },
  {
   "cell_type": "code",
   "execution_count": null,
   "id": "685b1a57",
   "metadata": {},
   "outputs": [],
   "source": []
  }
 ],
 "metadata": {
  "kernelspec": {
   "display_name": "Python 3 (ipykernel)",
   "language": "python",
   "name": "python3"
  },
  "language_info": {
   "codemirror_mode": {
    "name": "ipython",
    "version": 3
   },
   "file_extension": ".py",
   "mimetype": "text/x-python",
   "name": "python",
   "nbconvert_exporter": "python",
   "pygments_lexer": "ipython3",
   "version": "3.9.2"
  }
 },
 "nbformat": 4,
 "nbformat_minor": 5
}
