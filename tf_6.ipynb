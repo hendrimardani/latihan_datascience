{
 "cells": [
  {
   "cell_type": "code",
   "execution_count": 1,
   "id": "eb1a06a7",
   "metadata": {},
   "outputs": [
    {
     "name": "stderr",
     "output_type": "stream",
     "text": [
      "2022-08-30 16:16:05.443222: I tensorflow/core/util/util.cc:169] oneDNN custom operations are on. You may see slightly different numerical results due to floating-point round-off errors from different computation orders. To turn them off, set the environment variable `TF_ENABLE_ONEDNN_OPTS=0`.\n",
      "2022-08-30 16:16:05.507519: W tensorflow/stream_executor/platform/default/dso_loader.cc:64] Could not load dynamic library 'libcudart.so.11.0'; dlerror: libcudart.so.11.0: cannot open shared object file: No such file or directory\n",
      "2022-08-30 16:16:05.507534: I tensorflow/stream_executor/cuda/cudart_stub.cc:29] Ignore above cudart dlerror if you do not have a GPU set up on your machine.\n"
     ]
    }
   ],
   "source": [
    "from tensorflow.keras.preprocessing.text import Tokenizer\n",
    "from tensorflow.keras.preprocessing.sequence import pad_sequences\n",
    "from tensorflow.keras import layers\n",
    "from tensorflow.keras.models import Sequential"
   ]
  },
  {
   "cell_type": "markdown",
   "id": "5f6eeeab",
   "metadata": {},
   "source": [
    "# MEMBUAT RNN"
   ]
  },
  {
   "cell_type": "markdown",
   "id": "34e5e6af",
   "metadata": {},
   "source": [
    "# MEMBUAT OBJEK TOKENIZER"
   ]
  },
  {
   "cell_type": "code",
   "execution_count": 2,
   "id": "a546bbe7",
   "metadata": {},
   "outputs": [],
   "source": [
    "# Fungsi oov_token agar kata yang tidak tersedia tidak hilang\n",
    "tokenizer = Tokenizer(num_words= 15, oov_token='-')"
   ]
  },
  {
   "cell_type": "code",
   "execution_count": 3,
   "id": "fe6ed951",
   "metadata": {},
   "outputs": [],
   "source": [
    "teks = [\n",
    "        'Saya suka programming',\n",
    "        'Programming sangat menyenangkan!',\n",
    "        'Machine Learning berbeda dengan pemrograman konvensional'\n",
    "]"
   ]
  },
  {
   "cell_type": "code",
   "execution_count": 4,
   "id": "9933bd01",
   "metadata": {},
   "outputs": [],
   "source": [
    "tokenizer.fit_on_texts(teks)"
   ]
  },
  {
   "cell_type": "markdown",
   "id": "4fba4e78",
   "metadata": {},
   "source": [
    "# UBAH MENJADI KALIMAT"
   ]
  },
  {
   "cell_type": "code",
   "execution_count": 5,
   "id": "c701f4f8",
   "metadata": {},
   "outputs": [
    {
     "data": {
      "text/plain": [
       "[[3, 4, 2], [2, 5, 6], [7, 8, 9, 10, 11, 12]]"
      ]
     },
     "execution_count": 5,
     "metadata": {},
     "output_type": "execute_result"
    }
   ],
   "source": [
    "kalimat = tokenizer.texts_to_sequences(teks)\n",
    "kalimat"
   ]
  },
  {
   "cell_type": "code",
   "execution_count": 6,
   "id": "8c76a890",
   "metadata": {},
   "outputs": [
    {
     "name": "stdout",
     "output_type": "stream",
     "text": [
      "{'-': 1, 'programming': 2, 'saya': 3, 'suka': 4, 'sangat': 5, 'menyenangkan': 6, 'machine': 7, 'learning': 8, 'berbeda': 9, 'dengan': 10, 'pemrograman': 11, 'konvensional': 12}\n"
     ]
    }
   ],
   "source": [
    "print(tokenizer.word_index)"
   ]
  },
  {
   "cell_type": "code",
   "execution_count": 7,
   "id": "ddd508e8",
   "metadata": {
    "scrolled": false
   },
   "outputs": [
    {
     "name": "stdout",
     "output_type": "stream",
     "text": [
      "[[3, 4, 2]]\n",
      "[[3, 4, 1, 1, 1, 1]]\n"
     ]
    }
   ],
   "source": [
    "print(tokenizer.texts_to_sequences([\"Saya suka programming\"]))\n",
    "print(tokenizer.texts_to_sequences([\"Saya suka belajar programing sejak SMP\"]))"
   ]
  },
  {
   "cell_type": "markdown",
   "id": "6ae208b6",
   "metadata": {},
   "source": [
    "# LAKUKAN PADDING"
   ]
  },
  {
   "cell_type": "code",
   "execution_count": 8,
   "id": "ad2b1bd4",
   "metadata": {
    "scrolled": false
   },
   "outputs": [
    {
     "name": "stdout",
     "output_type": "stream",
     "text": [
      "[[ 3  4  2  0  0  0]\n",
      " [ 2  5  6  0  0  0]\n",
      " [ 7  8  9 10 11 12]]\n"
     ]
    }
   ],
   "source": [
    "# Agar kata menjadi sama panjang didalam kata seperti gambar\n",
    "# jika menggunakan padding=\"post\", nilai 0 akan di akhir kalimat default padding=\"pre\"\n",
    "# maxlen=4, untuk mengatur panjang kata akan menghasilkan 4 kata terakhir\n",
    "# truncating=\"post\" dan maxlen=4, untuk menghasilkan 4 kata pertama \n",
    "kalimat_samapanjang = pad_sequences(kalimat, maxlen=None, padding=\"post\")\n",
    "print(kalimat_samapanjang)"
   ]
  }
 ],
 "metadata": {
  "kernelspec": {
   "display_name": "Python 3 (ipykernel)",
   "language": "python",
   "name": "python3"
  },
  "language_info": {
   "codemirror_mode": {
    "name": "ipython",
    "version": 3
   },
   "file_extension": ".py",
   "mimetype": "text/x-python",
   "name": "python",
   "nbconvert_exporter": "python",
   "pygments_lexer": "ipython3",
   "version": "3.9.2"
  }
 },
 "nbformat": 4,
 "nbformat_minor": 5
}
