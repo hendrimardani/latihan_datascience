{
 "cells": [
  {
   "cell_type": "code",
   "execution_count": 2,
   "metadata": {
    "id": "T5gHzCQ3vawA"
   },
   "outputs": [],
   "source": [
    "import pandas as pd\n",
    "import tensorflow as tf\n",
    "from sklearn.model_selection import train_test_split, GridSearchCV\n",
    "from keras.wrappers.scikit_learn import KerasClassifier\n",
    "from tensorflow.keras.preprocessing.text import Tokenizer\n",
    "from tensorflow.keras.preprocessing.sequence import pad_sequences\n",
    "from tensorflow.keras.models import Sequential\n",
    "from tensorflow.keras import layers\n",
    "from keras import regularizers\n",
    "# from google.colab import drive\n",
    "from warnings import filterwarnings\n",
    "import matplotlib.pyplot as plt\n",
    "import seaborn as sns\n",
    "sns.set()\n",
    "filterwarnings(\"ignore\")"
   ]
  },
  {
   "cell_type": "code",
   "execution_count": 3,
   "metadata": {
    "colab": {
     "base_uri": "https://localhost:8080/"
    },
    "id": "insngll_xBPY",
    "outputId": "d0a20517-867b-42df-a6bb-79fe6f0deb35"
   },
   "outputs": [],
   "source": [
    "# drive.mount('/content/drive')"
   ]
  },
  {
   "cell_type": "code",
   "execution_count": 6,
   "metadata": {
    "colab": {
     "base_uri": "https://localhost:8080/",
     "height": 424
    },
    "id": "sj5w9zOoxGZE",
    "outputId": "9a7e1034-4c5a-4a8f-ded9-1fd9ce01047a"
   },
   "outputs": [
    {
     "data": {
      "text/html": [
       "<div>\n",
       "<style scoped>\n",
       "    .dataframe tbody tr th:only-of-type {\n",
       "        vertical-align: middle;\n",
       "    }\n",
       "\n",
       "    .dataframe tbody tr th {\n",
       "        vertical-align: top;\n",
       "    }\n",
       "\n",
       "    .dataframe thead th {\n",
       "        text-align: right;\n",
       "    }\n",
       "</style>\n",
       "<table border=\"1\" class=\"dataframe\">\n",
       "  <thead>\n",
       "    <tr style=\"text-align: right;\">\n",
       "      <th></th>\n",
       "      <th>clean_text</th>\n",
       "      <th>is_depression</th>\n",
       "    </tr>\n",
       "  </thead>\n",
       "  <tbody>\n",
       "    <tr>\n",
       "      <th>0</th>\n",
       "      <td>we understand that most people who reply immed...</td>\n",
       "      <td>1</td>\n",
       "    </tr>\n",
       "    <tr>\n",
       "      <th>1</th>\n",
       "      <td>welcome to r depression s check in post a plac...</td>\n",
       "      <td>1</td>\n",
       "    </tr>\n",
       "    <tr>\n",
       "      <th>2</th>\n",
       "      <td>anyone else instead of sleeping more when depr...</td>\n",
       "      <td>1</td>\n",
       "    </tr>\n",
       "    <tr>\n",
       "      <th>3</th>\n",
       "      <td>i ve kind of stuffed around a lot in my life d...</td>\n",
       "      <td>1</td>\n",
       "    </tr>\n",
       "    <tr>\n",
       "      <th>4</th>\n",
       "      <td>sleep is my greatest and most comforting escap...</td>\n",
       "      <td>1</td>\n",
       "    </tr>\n",
       "    <tr>\n",
       "      <th>...</th>\n",
       "      <td>...</td>\n",
       "      <td>...</td>\n",
       "    </tr>\n",
       "    <tr>\n",
       "      <th>7726</th>\n",
       "      <td>is that snow</td>\n",
       "      <td>0</td>\n",
       "    </tr>\n",
       "    <tr>\n",
       "      <th>7727</th>\n",
       "      <td>moulin rouge mad me cry once again</td>\n",
       "      <td>0</td>\n",
       "    </tr>\n",
       "    <tr>\n",
       "      <th>7728</th>\n",
       "      <td>trying to shout but can t find people on the list</td>\n",
       "      <td>0</td>\n",
       "    </tr>\n",
       "    <tr>\n",
       "      <th>7729</th>\n",
       "      <td>ughh can t find my red sox hat got ta wear thi...</td>\n",
       "      <td>0</td>\n",
       "    </tr>\n",
       "    <tr>\n",
       "      <th>7730</th>\n",
       "      <td>slept wonderfully finally tried swatching for ...</td>\n",
       "      <td>0</td>\n",
       "    </tr>\n",
       "  </tbody>\n",
       "</table>\n",
       "<p>7731 rows × 2 columns</p>\n",
       "</div>"
      ],
      "text/plain": [
       "                                             clean_text  is_depression\n",
       "0     we understand that most people who reply immed...              1\n",
       "1     welcome to r depression s check in post a plac...              1\n",
       "2     anyone else instead of sleeping more when depr...              1\n",
       "3     i ve kind of stuffed around a lot in my life d...              1\n",
       "4     sleep is my greatest and most comforting escap...              1\n",
       "...                                                 ...            ...\n",
       "7726                                       is that snow              0\n",
       "7727                 moulin rouge mad me cry once again              0\n",
       "7728  trying to shout but can t find people on the list              0\n",
       "7729  ughh can t find my red sox hat got ta wear thi...              0\n",
       "7730  slept wonderfully finally tried swatching for ...              0\n",
       "\n",
       "[7731 rows x 2 columns]"
      ]
     },
     "execution_count": 6,
     "metadata": {},
     "output_type": "execute_result"
    }
   ],
   "source": [
    "data = pd.read_csv(\"datasets/depression_dataset_reddit_cleaned.csv\")\n",
    "data"
   ]
  },
  {
   "cell_type": "code",
   "execution_count": 7,
   "metadata": {
    "id": "iX8wKb05ylPY"
   },
   "outputs": [],
   "source": [
    "X = data[\"clean_text\"].values\n",
    "y = data.iloc[:, 1].values\n",
    "\n",
    "X_train, X_test, y_train, y_test = train_test_split(X, y, test_size=0.2)"
   ]
  },
  {
   "cell_type": "code",
   "execution_count": 8,
   "metadata": {
    "colab": {
     "base_uri": "https://localhost:8080/"
    },
    "id": "SPjy5LSryp4Q",
    "outputId": "6840c0e6-ec1f-4128-d7ec-4bd894481258"
   },
   "outputs": [
    {
     "data": {
      "text/plain": [
       "(1547, 1726)"
      ]
     },
     "execution_count": 8,
     "metadata": {},
     "output_type": "execute_result"
    }
   ],
   "source": [
    "tokenizer = Tokenizer(num_words=5000, oov_token='x')\n",
    "tokenizer.fit_on_texts(X_train) \n",
    " \n",
    "kalimat_train = tokenizer.texts_to_sequences(X_train)\n",
    "kalimat_test = tokenizer.texts_to_sequences(X_test)\n",
    " \n",
    "pading_train = pad_sequences(kalimat_train) \n",
    "pading_test = pad_sequences(kalimat_test)\n",
    "pading_test.shape"
   ]
  },
  {
   "cell_type": "code",
   "execution_count": 9,
   "metadata": {
    "id": "QAJjXxzQyr1Q"
   },
   "outputs": [],
   "source": [
    "# def buat_model():\n",
    "#   model = Sequential([\n",
    "#     layers.Embedding(input_dim=5000, output_dim=16),\n",
    "#     layers.LSTM(64),\n",
    "#     layers.Dropout(0.25),\n",
    "#     layers.Dense(256, activation='relu', kernel_regularizer=regularizers.l2(0.01)),\n",
    "#     layers.Dropout(0.6),\n",
    "#     layers.Dense(128, activation='relu', kernel_regularizer=regularizers.l2(0.01)),\n",
    "#     layers.Dropout(0.6),\n",
    "#     layers.Dense(128, activation='relu', kernel_regularizer=regularizers.l2(0.01)),\n",
    "#     layers.Dropout(0.6),\n",
    "#     layers.Dense(1, activation='sigmoid')\n",
    "#   ])\n",
    "#   model.compile(\n",
    "#     loss=\"binary_crossentropy\",\n",
    "#     optimizer=\"adam\",\n",
    "#     metrics=[\"accuracy\"]\n",
    "#   )\n",
    "\n",
    "#   return model"
   ]
  },
  {
   "cell_type": "code",
   "execution_count": 10,
   "metadata": {
    "id": "aHR_l-2Y02rM"
   },
   "outputs": [],
   "source": [
    "class myCallback(tf.keras.callbacks.Callback):\n",
    "    def on_epoch_end(self, epoch, logs={}):\n",
    "        if(logs.get('accuracy')>0.95):\n",
    "            print(\"\\nAkurasi telah mencapai >95%!\")\n",
    "            self.model.stop_training = True\n",
    "callbacks = myCallback()"
   ]
  },
  {
   "cell_type": "code",
   "execution_count": 8,
   "metadata": {
    "id": "0e0TEqMAywX4"
   },
   "outputs": [],
   "source": [
    "# model = KerasClassifier(build_fn=buat_model)"
   ]
  },
  {
   "cell_type": "code",
   "execution_count": 9,
   "metadata": {
    "id": "YPqfKgHQzXlQ"
   },
   "outputs": [],
   "source": [
    "# batch_size = [32, 64]\n",
    "# epochs = [15]\n",
    "\n",
    "# param_grid = {\n",
    "#     \"batch_size\":batch_size, \n",
    "#     \"epochs\":epochs\n",
    "# }"
   ]
  },
  {
   "cell_type": "code",
   "execution_count": 10,
   "metadata": {
    "colab": {
     "base_uri": "https://localhost:8080/"
    },
    "id": "qMSSKV8p1z58",
    "outputId": "2ea10dd6-fa69-45fa-975a-7e0d82d94ab8"
   },
   "outputs": [
    {
     "name": "stdout",
     "output_type": "stream",
     "text": [
      "Epoch 1/15\n",
      "129/129 - 25s - loss: 1.9143 - accuracy: 0.5005 - val_loss: 0.8161 - val_accuracy: 0.5197 - 25s/epoch - 193ms/step\n",
      "Epoch 2/15\n",
      "129/129 - 15s - loss: 0.7228 - accuracy: 0.5027 - val_loss: 0.6943 - val_accuracy: 0.5197 - 15s/epoch - 118ms/step\n",
      "Epoch 3/15\n",
      "129/129 - 16s - loss: 0.6936 - accuracy: 0.4879 - val_loss: 0.6931 - val_accuracy: 0.5197 - 16s/epoch - 127ms/step\n",
      "Epoch 4/15\n",
      "129/129 - 15s - loss: 0.6932 - accuracy: 0.5022 - val_loss: 0.6930 - val_accuracy: 0.5197 - 15s/epoch - 119ms/step\n",
      "Epoch 5/15\n",
      "129/129 - 16s - loss: 0.6932 - accuracy: 0.5005 - val_loss: 0.6931 - val_accuracy: 0.5197 - 16s/epoch - 127ms/step\n",
      "Epoch 6/15\n",
      "129/129 - 15s - loss: 0.6934 - accuracy: 0.4881 - val_loss: 0.6931 - val_accuracy: 0.5197 - 15s/epoch - 119ms/step\n",
      "Epoch 7/15\n",
      "129/129 - 16s - loss: 0.6933 - accuracy: 0.4934 - val_loss: 0.6932 - val_accuracy: 0.4803 - 16s/epoch - 122ms/step\n",
      "Epoch 8/15\n",
      "129/129 - 15s - loss: 0.6931 - accuracy: 0.5019 - val_loss: 0.6931 - val_accuracy: 0.5197 - 15s/epoch - 119ms/step\n",
      "Epoch 9/15\n",
      "129/129 - 16s - loss: 0.6932 - accuracy: 0.5032 - val_loss: 0.6931 - val_accuracy: 0.5197 - 16s/epoch - 122ms/step\n",
      "Epoch 10/15\n",
      "129/129 - 15s - loss: 0.6932 - accuracy: 0.4990 - val_loss: 0.6929 - val_accuracy: 0.5197 - 15s/epoch - 119ms/step\n",
      "Epoch 11/15\n",
      "129/129 - 15s - loss: 0.6932 - accuracy: 0.4959 - val_loss: 0.6930 - val_accuracy: 0.5197 - 15s/epoch - 119ms/step\n",
      "Epoch 12/15\n",
      "129/129 - 15s - loss: 0.6934 - accuracy: 0.4918 - val_loss: 0.6931 - val_accuracy: 0.5197 - 15s/epoch - 119ms/step\n",
      "Epoch 13/15\n",
      "129/129 - 16s - loss: 0.6932 - accuracy: 0.4884 - val_loss: 0.6931 - val_accuracy: 0.5197 - 16s/epoch - 122ms/step\n",
      "Epoch 14/15\n",
      "129/129 - 16s - loss: 0.6932 - accuracy: 0.4930 - val_loss: 0.6931 - val_accuracy: 0.5197 - 16s/epoch - 127ms/step\n",
      "Epoch 15/15\n",
      "129/129 - 15s - loss: 0.6932 - accuracy: 0.4981 - val_loss: 0.6931 - val_accuracy: 0.5197 - 15s/epoch - 119ms/step\n",
      "65/65 [==============================] - 4s 55ms/step - loss: 0.6932 - accuracy: 0.4995\n",
      "Epoch 1/15\n",
      "129/129 - 18s - loss: 1.8650 - accuracy: 0.7368 - val_loss: 0.6346 - val_accuracy: 0.8985 - 18s/epoch - 138ms/step\n",
      "Epoch 2/15\n",
      "129/129 - 16s - loss: 0.3622 - accuracy: 0.9331 - val_loss: 0.2213 - val_accuracy: 0.9567 - 16s/epoch - 122ms/step\n",
      "Epoch 3/15\n",
      "129/129 - 16s - loss: 0.1663 - accuracy: 0.9753 - val_loss: 0.1656 - val_accuracy: 0.9670 - 16s/epoch - 122ms/step\n",
      "Epoch 4/15\n",
      "129/129 - 15s - loss: 0.1384 - accuracy: 0.9811 - val_loss: 0.1627 - val_accuracy: 0.9644 - 15s/epoch - 119ms/step\n",
      "Epoch 5/15\n",
      "129/129 - 15s - loss: 0.1067 - accuracy: 0.9867 - val_loss: 0.1513 - val_accuracy: 0.9690 - 15s/epoch - 119ms/step\n",
      "Epoch 6/15\n",
      "129/129 - 16s - loss: 0.0830 - accuracy: 0.9932 - val_loss: 0.1669 - val_accuracy: 0.9677 - 16s/epoch - 126ms/step\n",
      "Epoch 7/15\n",
      "129/129 - 16s - loss: 0.5304 - accuracy: 0.8140 - val_loss: 0.4192 - val_accuracy: 0.8533 - 16s/epoch - 123ms/step\n",
      "Epoch 8/15\n",
      "129/129 - 16s - loss: 0.1759 - accuracy: 0.9707 - val_loss: 0.1778 - val_accuracy: 0.9651 - 16s/epoch - 121ms/step\n",
      "Epoch 9/15\n",
      "129/129 - 15s - loss: 0.0901 - accuracy: 0.9932 - val_loss: 0.1434 - val_accuracy: 0.9741 - 15s/epoch - 119ms/step\n",
      "Epoch 10/15\n",
      "129/129 - 15s - loss: 0.0763 - accuracy: 0.9937 - val_loss: 0.1404 - val_accuracy: 0.9716 - 15s/epoch - 120ms/step\n",
      "Epoch 11/15\n",
      "129/129 - 16s - loss: 0.0703 - accuracy: 0.9939 - val_loss: 0.1553 - val_accuracy: 0.9683 - 16s/epoch - 121ms/step\n",
      "Epoch 12/15\n",
      "129/129 - 15s - loss: 0.0632 - accuracy: 0.9954 - val_loss: 0.1626 - val_accuracy: 0.9709 - 15s/epoch - 120ms/step\n",
      "Epoch 13/15\n",
      "129/129 - 15s - loss: 0.0576 - accuracy: 0.9973 - val_loss: 0.1534 - val_accuracy: 0.9690 - 15s/epoch - 119ms/step\n",
      "Epoch 14/15\n",
      "129/129 - 15s - loss: 0.0583 - accuracy: 0.9956 - val_loss: 0.1568 - val_accuracy: 0.9657 - 15s/epoch - 120ms/step\n",
      "Epoch 15/15\n",
      "129/129 - 16s - loss: 0.0507 - accuracy: 0.9976 - val_loss: 0.1564 - val_accuracy: 0.9722 - 16s/epoch - 128ms/step\n",
      "65/65 [==============================] - 4s 53ms/step - loss: 0.1863 - accuracy: 0.9631\n",
      "Epoch 1/15\n",
      "129/129 - 18s - loss: 1.9643 - accuracy: 0.5661 - val_loss: 0.8943 - val_accuracy: 0.4803 - 18s/epoch - 141ms/step\n",
      "Epoch 2/15\n",
      "129/129 - 16s - loss: 0.7613 - accuracy: 0.5135 - val_loss: 0.7112 - val_accuracy: 0.4803 - 16s/epoch - 123ms/step\n",
      "Epoch 3/15\n",
      "129/129 - 15s - loss: 0.7003 - accuracy: 0.5110 - val_loss: 0.6982 - val_accuracy: 0.4803 - 15s/epoch - 120ms/step\n",
      "Epoch 4/15\n",
      "129/129 - 16s - loss: 0.6944 - accuracy: 0.5110 - val_loss: 0.6957 - val_accuracy: 0.4803 - 16s/epoch - 120ms/step\n",
      "Epoch 5/15\n",
      "129/129 - 15s - loss: 0.6936 - accuracy: 0.5127 - val_loss: 0.6950 - val_accuracy: 0.4803 - 15s/epoch - 120ms/step\n",
      "Epoch 6/15\n",
      "129/129 - 15s - loss: 0.6928 - accuracy: 0.5115 - val_loss: 0.6945 - val_accuracy: 0.4803 - 15s/epoch - 119ms/step\n",
      "Epoch 7/15\n",
      "129/129 - 15s - loss: 0.6931 - accuracy: 0.5115 - val_loss: 0.6948 - val_accuracy: 0.4803 - 15s/epoch - 119ms/step\n",
      "Epoch 8/15\n",
      "129/129 - 15s - loss: 0.6933 - accuracy: 0.5135 - val_loss: 0.6947 - val_accuracy: 0.4803 - 15s/epoch - 120ms/step\n",
      "Epoch 9/15\n",
      "129/129 - 16s - loss: 0.6930 - accuracy: 0.5139 - val_loss: 0.6947 - val_accuracy: 0.4803 - 16s/epoch - 127ms/step\n",
      "Epoch 10/15\n",
      "129/129 - 15s - loss: 0.6929 - accuracy: 0.5139 - val_loss: 0.6942 - val_accuracy: 0.4803 - 15s/epoch - 119ms/step\n",
      "Epoch 11/15\n",
      "129/129 - 15s - loss: 0.6927 - accuracy: 0.5149 - val_loss: 0.6945 - val_accuracy: 0.4803 - 15s/epoch - 119ms/step\n",
      "Epoch 12/15\n",
      "129/129 - 15s - loss: 0.6928 - accuracy: 0.5127 - val_loss: 0.6943 - val_accuracy: 0.4803 - 15s/epoch - 120ms/step\n",
      "Epoch 13/15\n",
      "129/129 - 15s - loss: 0.6927 - accuracy: 0.5139 - val_loss: 0.6946 - val_accuracy: 0.4803 - 15s/epoch - 120ms/step\n",
      "Epoch 14/15\n",
      "129/129 - 15s - loss: 0.6930 - accuracy: 0.5132 - val_loss: 0.6948 - val_accuracy: 0.4803 - 15s/epoch - 120ms/step\n",
      "Epoch 15/15\n",
      "129/129 - 15s - loss: 0.6929 - accuracy: 0.5137 - val_loss: 0.6945 - val_accuracy: 0.4803 - 15s/epoch - 120ms/step\n",
      "65/65 [==============================] - 4s 53ms/step - loss: 0.6949 - accuracy: 0.4706\n",
      "Epoch 1/15\n",
      "65/65 - 11s - loss: 2.7459 - accuracy: 0.5349 - val_loss: 1.4851 - val_accuracy: 0.5197 - 11s/epoch - 166ms/step\n",
      "Epoch 2/15\n",
      "65/65 - 8s - loss: 0.8879 - accuracy: 0.8171 - val_loss: 0.4533 - val_accuracy: 0.8908 - 8s/epoch - 130ms/step\n",
      "Epoch 3/15\n",
      "65/65 - 8s - loss: 0.3273 - accuracy: 0.9250 - val_loss: 0.2338 - val_accuracy: 0.9463 - 8s/epoch - 130ms/step\n",
      "Epoch 4/15\n",
      "65/65 - 9s - loss: 0.1738 - accuracy: 0.9723 - val_loss: 0.1715 - val_accuracy: 0.9638 - 9s/epoch - 140ms/step\n",
      "Epoch 5/15\n",
      "65/65 - 8s - loss: 0.7049 - accuracy: 0.6672 - val_loss: 0.7562 - val_accuracy: 0.5449 - 8s/epoch - 130ms/step\n",
      "Epoch 6/15\n",
      "65/65 - 8s - loss: 0.7347 - accuracy: 0.5099 - val_loss: 0.7187 - val_accuracy: 0.4913 - 8s/epoch - 130ms/step\n",
      "Epoch 7/15\n",
      "65/65 - 8s - loss: 0.5354 - accuracy: 0.7307 - val_loss: 0.2444 - val_accuracy: 0.9664 - 8s/epoch - 129ms/step\n",
      "Epoch 8/15\n",
      "65/65 - 8s - loss: 0.1550 - accuracy: 0.9842 - val_loss: 0.1820 - val_accuracy: 0.9644 - 8s/epoch - 130ms/step\n",
      "Epoch 9/15\n",
      "65/65 - 9s - loss: 0.1127 - accuracy: 0.9893 - val_loss: 0.1811 - val_accuracy: 0.9599 - 9s/epoch - 132ms/step\n",
      "Epoch 10/15\n",
      "65/65 - 8s - loss: 0.1008 - accuracy: 0.9908 - val_loss: 0.1944 - val_accuracy: 0.9599 - 8s/epoch - 130ms/step\n",
      "Epoch 11/15\n",
      "65/65 - 8s - loss: 0.0959 - accuracy: 0.9908 - val_loss: 0.2106 - val_accuracy: 0.9593 - 8s/epoch - 130ms/step\n",
      "Epoch 12/15\n",
      "65/65 - 8s - loss: 0.0857 - accuracy: 0.9918 - val_loss: 0.1927 - val_accuracy: 0.9625 - 8s/epoch - 129ms/step\n",
      "Epoch 13/15\n",
      "65/65 - 8s - loss: 0.0822 - accuracy: 0.9927 - val_loss: 0.1712 - val_accuracy: 0.9632 - 8s/epoch - 130ms/step\n",
      "Epoch 14/15\n",
      "65/65 - 8s - loss: 0.0756 - accuracy: 0.9934 - val_loss: 0.2069 - val_accuracy: 0.9599 - 8s/epoch - 130ms/step\n",
      "Epoch 15/15\n",
      "65/65 - 8s - loss: 0.0763 - accuracy: 0.9922 - val_loss: 0.1944 - val_accuracy: 0.9612 - 8s/epoch - 130ms/step\n",
      "33/33 [==============================] - 2s 62ms/step - loss: 0.1945 - accuracy: 0.9607\n",
      "Epoch 1/15\n",
      "65/65 - 11s - loss: 2.7115 - accuracy: 0.6141 - val_loss: 1.3508 - val_accuracy: 0.8856 - 11s/epoch - 171ms/step\n",
      "Epoch 2/15\n",
      "65/65 - 8s - loss: 0.8435 - accuracy: 0.8862 - val_loss: 0.4751 - val_accuracy: 0.9056 - 8s/epoch - 130ms/step\n",
      "Epoch 3/15\n",
      "65/65 - 9s - loss: 0.3354 - accuracy: 0.9389 - val_loss: 0.2363 - val_accuracy: 0.9554 - 9s/epoch - 142ms/step\n",
      "Epoch 4/15\n",
      "65/65 - 9s - loss: 0.5919 - accuracy: 0.7723 - val_loss: 0.3949 - val_accuracy: 0.9554 - 9s/epoch - 132ms/step\n",
      "Epoch 5/15\n",
      "65/65 - 9s - loss: 0.2937 - accuracy: 0.9789 - val_loss: 0.2509 - val_accuracy: 0.9567 - 9s/epoch - 132ms/step\n",
      "Epoch 6/15\n",
      "65/65 - 9s - loss: 0.1676 - accuracy: 0.9869 - val_loss: 0.1893 - val_accuracy: 0.9644 - 9s/epoch - 132ms/step\n",
      "Epoch 7/15\n",
      "65/65 - 8s - loss: 0.1686 - accuracy: 0.9796 - val_loss: 0.1843 - val_accuracy: 0.9703 - 8s/epoch - 131ms/step\n",
      "Epoch 8/15\n",
      "65/65 - 8s - loss: 0.1426 - accuracy: 0.9842 - val_loss: 0.1957 - val_accuracy: 0.9554 - 8s/epoch - 130ms/step\n",
      "Epoch 9/15\n",
      "65/65 - 9s - loss: 0.1136 - accuracy: 0.9915 - val_loss: 0.2188 - val_accuracy: 0.9625 - 9s/epoch - 131ms/step\n",
      "Epoch 10/15\n",
      "65/65 - 8s - loss: 0.1024 - accuracy: 0.9925 - val_loss: 0.2447 - val_accuracy: 0.9619 - 8s/epoch - 130ms/step\n",
      "Epoch 11/15\n",
      "65/65 - 8s - loss: 0.1111 - accuracy: 0.9884 - val_loss: 0.1792 - val_accuracy: 0.9612 - 8s/epoch - 130ms/step\n",
      "Epoch 12/15\n",
      "65/65 - 8s - loss: 0.0836 - accuracy: 0.9947 - val_loss: 0.1837 - val_accuracy: 0.9677 - 8s/epoch - 130ms/step\n",
      "Epoch 13/15\n",
      "65/65 - 8s - loss: 0.0771 - accuracy: 0.9944 - val_loss: 0.1835 - val_accuracy: 0.9677 - 8s/epoch - 131ms/step\n",
      "Epoch 14/15\n",
      "65/65 - 9s - loss: 0.0670 - accuracy: 0.9973 - val_loss: 0.2086 - val_accuracy: 0.9657 - 9s/epoch - 131ms/step\n",
      "Epoch 15/15\n",
      "65/65 - 9s - loss: 0.0662 - accuracy: 0.9964 - val_loss: 0.1844 - val_accuracy: 0.9664 - 9s/epoch - 132ms/step\n",
      "33/33 [==============================] - 3s 62ms/step - loss: 0.1859 - accuracy: 0.9636\n",
      "Epoch 1/15\n",
      "65/65 - 11s - loss: 2.7533 - accuracy: 0.5457 - val_loss: 1.4305 - val_accuracy: 0.8630 - 11s/epoch - 166ms/step\n",
      "Epoch 2/15\n",
      "65/65 - 9s - loss: 0.8146 - accuracy: 0.8562 - val_loss: 0.4738 - val_accuracy: 0.8901 - 9s/epoch - 135ms/step\n",
      "Epoch 3/15\n",
      "65/65 - 9s - loss: 0.3744 - accuracy: 0.9069 - val_loss: 0.3010 - val_accuracy: 0.9114 - 9s/epoch - 138ms/step\n",
      "Epoch 4/15\n",
      "65/65 - 8s - loss: 0.2347 - accuracy: 0.9491 - val_loss: 0.2083 - val_accuracy: 0.9528 - 8s/epoch - 130ms/step\n",
      "Epoch 5/15\n",
      "65/65 - 9s - loss: 0.1621 - accuracy: 0.9743 - val_loss: 0.1928 - val_accuracy: 0.9606 - 9s/epoch - 132ms/step\n",
      "Epoch 6/15\n",
      "65/65 - 8s - loss: 0.1391 - accuracy: 0.9796 - val_loss: 0.1910 - val_accuracy: 0.9606 - 8s/epoch - 130ms/step\n",
      "Epoch 7/15\n",
      "65/65 - 9s - loss: 0.1077 - accuracy: 0.9886 - val_loss: 0.1678 - val_accuracy: 0.9657 - 9s/epoch - 131ms/step\n",
      "Epoch 8/15\n",
      "65/65 - 8s - loss: 0.0881 - accuracy: 0.9915 - val_loss: 0.1677 - val_accuracy: 0.9670 - 8s/epoch - 131ms/step\n",
      "Epoch 9/15\n",
      "65/65 - 8s - loss: 0.2421 - accuracy: 0.9442 - val_loss: 0.9549 - val_accuracy: 0.5197 - 8s/epoch - 131ms/step\n",
      "Epoch 10/15\n",
      "65/65 - 9s - loss: 0.7653 - accuracy: 0.5047 - val_loss: 0.7298 - val_accuracy: 0.4803 - 9s/epoch - 131ms/step\n",
      "Epoch 11/15\n",
      "65/65 - 9s - loss: 0.7179 - accuracy: 0.5110 - val_loss: 0.7063 - val_accuracy: 0.5197 - 9s/epoch - 131ms/step\n",
      "Epoch 12/15\n",
      "65/65 - 8s - loss: 0.7038 - accuracy: 0.5137 - val_loss: 0.6992 - val_accuracy: 0.5197 - 8s/epoch - 131ms/step\n",
      "Epoch 13/15\n",
      "65/65 - 9s - loss: 0.7026 - accuracy: 0.4892 - val_loss: 0.6985 - val_accuracy: 0.4803 - 9s/epoch - 131ms/step\n",
      "Epoch 14/15\n",
      "65/65 - 8s - loss: 0.6989 - accuracy: 0.5103 - val_loss: 0.6978 - val_accuracy: 0.4803 - 8s/epoch - 130ms/step\n",
      "Epoch 15/15\n",
      "65/65 - 8s - loss: 0.6974 - accuracy: 0.5074 - val_loss: 0.6967 - val_accuracy: 0.4803 - 8s/epoch - 130ms/step\n",
      "33/33 [==============================] - 2s 60ms/step - loss: 0.6970 - accuracy: 0.4706\n",
      "Epoch 1/15\n",
      "97/97 - 15s - loss: 2.1963 - accuracy: 0.6811 - val_loss: 0.8184 - val_accuracy: 0.8817 - 15s/epoch - 152ms/step\n",
      "Epoch 2/15\n",
      "97/97 - 13s - loss: 0.4711 - accuracy: 0.9004 - val_loss: 0.2660 - val_accuracy: 0.9347 - 13s/epoch - 135ms/step\n",
      "Epoch 3/15\n",
      "97/97 - 12s - loss: 0.1883 - accuracy: 0.9681 - val_loss: 0.1805 - val_accuracy: 0.9593 - 12s/epoch - 129ms/step\n",
      "Epoch 4/15\n",
      "97/97 - 12s - loss: 0.1301 - accuracy: 0.9801 - val_loss: 0.1498 - val_accuracy: 0.9657 - 12s/epoch - 129ms/step\n",
      "Epoch 5/15\n",
      "97/97 - 12s - loss: 0.5787 - accuracy: 0.7181 - val_loss: 0.7633 - val_accuracy: 0.5514 - 12s/epoch - 128ms/step\n",
      "Epoch 6/15\n",
      "97/97 - 12s - loss: 0.7320 - accuracy: 0.5522 - val_loss: 0.6710 - val_accuracy: 0.8112 - 12s/epoch - 128ms/step\n",
      "Epoch 7/15\n",
      "97/97 - 12s - loss: 0.4282 - accuracy: 0.8648 - val_loss: 0.2515 - val_accuracy: 0.9379 - 12s/epoch - 128ms/step\n",
      "Epoch 8/15\n",
      "97/97 - 12s - loss: 0.4914 - accuracy: 0.8103 - val_loss: 0.6653 - val_accuracy: 0.7550 - 12s/epoch - 128ms/step\n",
      "Epoch 9/15\n",
      "97/97 - 12s - loss: 0.4627 - accuracy: 0.8659 - val_loss: 0.3260 - val_accuracy: 0.9270 - 12s/epoch - 127ms/step\n",
      "Epoch 10/15\n",
      "97/97 - 12s - loss: 0.2555 - accuracy: 0.9620 - val_loss: 0.2467 - val_accuracy: 0.9502 - 12s/epoch - 127ms/step\n",
      "Epoch 11/15\n",
      "97/97 - 12s - loss: 0.1685 - accuracy: 0.9775 - val_loss: 0.2125 - val_accuracy: 0.9606 - 12s/epoch - 128ms/step\n",
      "Epoch 12/15\n",
      "97/97 - 12s - loss: 0.1491 - accuracy: 0.9825 - val_loss: 0.2029 - val_accuracy: 0.9606 - 12s/epoch - 127ms/step\n",
      "Epoch 13/15\n",
      "97/97 - 12s - loss: 0.1686 - accuracy: 0.9766 - val_loss: 1.9097 - val_accuracy: 0.4861 - 12s/epoch - 127ms/step\n",
      "Epoch 14/15\n",
      "97/97 - 13s - loss: 0.4722 - accuracy: 0.8179 - val_loss: 0.2114 - val_accuracy: 0.9625 - 13s/epoch - 135ms/step\n",
      "Epoch 15/15\n",
      "97/97 - 12s - loss: 0.1328 - accuracy: 0.9879 - val_loss: 0.2192 - val_accuracy: 0.9638 - 12s/epoch - 128ms/step\n"
     ]
    },
    {
     "data": {
      "text/plain": [
       "GridSearchCV(cv=3,\n",
       "             estimator=<keras.wrappers.scikit_learn.KerasClassifier object at 0x7fa48c26d810>,\n",
       "             param_grid={'batch_size': [32, 64], 'epochs': [15]})"
      ]
     },
     "execution_count": 10,
     "metadata": {},
     "output_type": "execute_result"
    }
   ],
   "source": [
    "# grid_model = GridSearchCV(estimator=model, param_grid=param_grid, cv=3)\n",
    "# grid_model.fit(pading_train, y_train, validation_data=(pading_test, y_test), verbose=2)\n"
   ]
  },
  {
   "cell_type": "code",
   "execution_count": 11,
   "metadata": {
    "colab": {
     "base_uri": "https://localhost:8080/"
    },
    "id": "6BXzkfbiM7V0",
    "outputId": "37ed5c57-5559-466c-8773-2ba56e8dcc3a"
   },
   "outputs": [
    {
     "name": "stdout",
     "output_type": "stream",
     "text": [
      "{'batch_size': 64, 'epochs': 15}\n"
     ]
    }
   ],
   "source": [
    "# print(grid_model.best_params_)"
   ]
  },
  {
   "cell_type": "code",
   "execution_count": 12,
   "metadata": {
    "id": "SCIF6NRrOr5Q"
   },
   "outputs": [],
   "source": [
    " model = Sequential([\n",
    "    layers.Embedding(input_dim=5000, output_dim=16),\n",
    "    layers.LSTM(64),\n",
    "    layers.Dropout(0.25),\n",
    "    layers.Dense(256, activation='relu', kernel_regularizer=regularizers.l2(0.01)),\n",
    "    layers.Dropout(0.6),\n",
    "    layers.Dense(128, activation='relu', kernel_regularizer=regularizers.l2(0.01)),\n",
    "    layers.Dropout(0.6),\n",
    "    layers.Dense(128, activation='relu', kernel_regularizer=regularizers.l2(0.01)),\n",
    "    layers.Dropout(0.6),\n",
    "    layers.Dense(1, activation='sigmoid')\n",
    "  ])\n",
    "\n",
    "model.compile(\n",
    "    loss=\"binary_crossentropy\",\n",
    "    optimizer=\"adam\",\n",
    "    metrics=[\"accuracy\"]\n",
    "  )"
   ]
  },
  {
   "cell_type": "code",
   "execution_count": 13,
   "metadata": {
    "colab": {
     "base_uri": "https://localhost:8080/"
    },
    "id": "VGp9x8F7O3ik",
    "outputId": "a6a785be-efa5-41e7-cb66-ad9cdafd0bea"
   },
   "outputs": [
    {
     "name": "stdout",
     "output_type": "stream",
     "text": [
      "Epoch 1/15\n",
      "97/97 - 156s - loss: 2.1654 - accuracy: 0.7050 - val_loss: 0.7414 - val_accuracy: 0.8772 - 156s/epoch - 2s/step\n",
      "Epoch 2/15\n",
      "97/97 - 161s - loss: 0.4227 - accuracy: 0.9216 - val_loss: 0.2345 - val_accuracy: 0.9528 - 161s/epoch - 2s/step\n",
      "Epoch 3/15\n",
      "\n",
      "Akurasi telah mencapai >95%!\n",
      "97/97 - 164s - loss: 0.1743 - accuracy: 0.9749 - val_loss: 0.1647 - val_accuracy: 0.9677 - 164s/epoch - 2s/step\n"
     ]
    }
   ],
   "source": [
    "history = model.fit(pading_train, y_train, validation_data=(pading_test, y_test), callbacks=[callbacks],\n",
    "          batch_size=64 , epochs=15 , verbose=2)"
   ]
  },
  {
   "cell_type": "code",
   "execution_count": 16,
   "metadata": {
    "colab": {
     "base_uri": "https://localhost:8080/",
     "height": 521
    },
    "id": "zoOLedrgFeFU",
    "outputId": "7f11d975-b198-4110-cfd1-f11163c42b01"
   },
   "outputs": [
    {
     "data": {
      "image/png": "[encoded data removed]",
      "text/plain": [
       "<Figure size 864x504 with 4 Axes>"
      ]
     },
     "metadata": {},
     "output_type": "display_data"
    }
   ],
   "source": [
    "fig, ((ax1, ax2), (ax3, ax4)) = plt.subplots(2, 2, figsize=(12,7))\n",
    "ax1.plot(history.history[\"accuracy\"])\n",
    "ax1.set_title(\"ACCURACY\")\n",
    "ax1.set_ylabel(\"Accuracy\")\n",
    "ax1.set_xlabel(\"Epoch\")\n",
    "\n",
    "ax2.plot(history.history[\"val_accuracy\"], \"r--\")\n",
    "ax2.set_title(\"VALL ACCURACY\")\n",
    "ax2.set_ylabel(\"Vall Accuracy\")\n",
    "ax2.set_xlabel(\"Epoch\");\n",
    "\n",
    "ax3.plot(history.history[\"loss\"])\n",
    "ax3.set_title(\"LOSS\")\n",
    "ax3.set_ylabel(\"Loss\")\n",
    "ax3.set_xlabel(\"Epoch\")\n",
    "\n",
    "ax4.plot(history.history[\"val_loss\"], \"r--\")\n",
    "ax4.set_title(\"VALL LOSS\")\n",
    "ax4.set_ylabel(\"Vall Loss\")\n",
    "ax4.set_xlabel(\"Epoch\");\n",
    "fig.tight_layout(pad=0.6)"
   ]
  },
  {
   "cell_type": "code",
   "execution_count": null,
   "metadata": {
    "id": "81msb3onZgWc"
   },
   "outputs": [],
   "source": []
  }
 ],
 "metadata": {
  "accelerator": "GPU",
  "colab": {
   "collapsed_sections": [],
   "provenance": []
  },
  "gpuClass": "standard",
  "kernelspec": {
   "display_name": "Python 3 (ipykernel)",
   "language": "python",
   "name": "python3"
  },
  "language_info": {
   "codemirror_mode": {
    "name": "ipython",
    "version": 3
   },
   "file_extension": ".py",
   "mimetype": "text/x-python",
   "name": "python",
   "nbconvert_exporter": "python",
   "pygments_lexer": "ipython3",
   "version": "3.9.2"
  }
 },
 "nbformat": 4,
 "nbformat_minor": 1
}
