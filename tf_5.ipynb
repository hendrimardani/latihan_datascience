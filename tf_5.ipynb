{
 "cells": [
  {
   "cell_type": "code",
   "execution_count": 1,
   "id": "71ee46a9",
   "metadata": {},
   "outputs": [
    {
     "name": "stderr",
     "output_type": "stream",
     "text": [
      "2022-08-30 19:53:18.628528: I tensorflow/core/util/util.cc:169] oneDNN custom operations are on. You may see slightly different numerical results due to floating-point round-off errors from different computation orders. To turn them off, set the environment variable `TF_ENABLE_ONEDNN_OPTS=0`.\n",
      "2022-08-30 19:53:18.631517: W tensorflow/stream_executor/platform/default/dso_loader.cc:64] Could not load dynamic library 'libcudart.so.11.0'; dlerror: libcudart.so.11.0: cannot open shared object file: No such file or directory\n",
      "2022-08-30 19:53:18.631529: I tensorflow/stream_executor/cuda/cudart_stub.cc:29] Ignore above cudart dlerror if you do not have a GPU set up on your machine.\n"
     ]
    }
   ],
   "source": [
    "import os\n",
    "import tensorflow as tf\n",
    "from keras import Sequential\n",
    "from keras import layers\n",
    "from keras.preprocessing.image import ImageDataGenerator\n",
    "from tensorflow.keras.regularizers import l2\n",
    "import matplotlib.pyplot as plt\n",
    "import seaborn as sns\n",
    "\n",
    "sns.set()"
   ]
  },
  {
   "cell_type": "code",
   "execution_count": 2,
   "id": "42902876",
   "metadata": {},
   "outputs": [
    {
     "data": {
      "text/plain": [
       "87"
      ]
     },
     "execution_count": 2,
     "metadata": {},
     "output_type": "execute_result"
    }
   ],
   "source": [
    "len(os.listdir(\"Chessman-image-dataset/Chess/Bishop\"))"
   ]
  },
  {
   "cell_type": "code",
   "execution_count": 3,
   "id": "b7c598d0",
   "metadata": {},
   "outputs": [],
   "source": [
    "direk = os.listdir(\"Chessman-image-dataset/Chess/\")"
   ]
  },
  {
   "cell_type": "code",
   "execution_count": 4,
   "id": "bb1bef05",
   "metadata": {
    "scrolled": true
   },
   "outputs": [
    {
     "name": "stdout",
     "output_type": "stream",
     "text": [
      "Jumlah direktori Bishop = 87\n",
      "Jumlah direktori Rook = 102\n",
      "Jumlah direktori Pawn = 107\n",
      "Jumlah direktori Knight = 106\n",
      "Jumlah direktori King = 76\n",
      "Jumlah direktori Queen = 78\n"
     ]
    }
   ],
   "source": [
    "for x in range(len(direk)):\n",
    "    print(f\"Jumlah direktori {direk[x]}\" , \"=\", len(os.listdir(f\"Chessman-image-dataset/Chess/{direk[x]}\")))"
   ]
  },
  {
   "cell_type": "code",
   "execution_count": 5,
   "id": "e9191940",
   "metadata": {
    "scrolled": true
   },
   "outputs": [
    {
     "data": {
      "text/plain": [
       "['00000158.jpg',\n",
       " '00000010.jpg',\n",
       " '00000004.jpg',\n",
       " '00000011.jpg',\n",
       " '00000039.jpg',\n",
       " '00000167.jpg',\n",
       " '00000007.jpg',\n",
       " '00000013.jpg',\n",
       " '00000012.jpg',\n",
       " '00000006.jpg',\n",
       " '00000199.jpg',\n",
       " '00000189.jpg',\n",
       " '00000002.JPG',\n",
       " '00000016.jpg',\n",
       " '00000003.png',\n",
       " '00000017.jpg',\n",
       " '00000188.jpg',\n",
       " '00000177.jpg',\n",
       " '00000175.jpg',\n",
       " '00000149.jpg',\n",
       " '00000001.jpg',\n",
       " '00000015.png',\n",
       " '00000095.gif',\n",
       " '00000028.jpg',\n",
       " '00000000.JPG',\n",
       " '00000174.jpg',\n",
       " '00000113.png',\n",
       " '00000066.jpg',\n",
       " '00000112.jpg',\n",
       " '00000138.jpg',\n",
       " '00000110.jpg',\n",
       " '00000070.jpg',\n",
       " '00000071.png',\n",
       " '00000115.jpg',\n",
       " '00000129.jpg',\n",
       " '00000061.jpg',\n",
       " '00000075.jpg',\n",
       " '00000049.jpg',\n",
       " '00000074.jpg',\n",
       " '00000114.jpg',\n",
       " '00000102.jpg',\n",
       " '00000062.jpg',\n",
       " '00000089.jpg',\n",
       " '00000088.jpg',\n",
       " '00000117.jpg',\n",
       " '00000103.jpg',\n",
       " '00000126.jpg',\n",
       " '00000127.jpg',\n",
       " '00000079.jpg',\n",
       " '00000092.jpg',\n",
       " '00000086.png',\n",
       " '00000044.png',\n",
       " '00000078.jpg',\n",
       " '00000130.png',\n",
       " '00000120.jpg',\n",
       " '00000068.png',\n",
       " '00000082.jpg',\n",
       " '00000109.jpg',\n",
       " '00000121.jpg',\n",
       " '00000094.jpg',\n",
       " '00000081.jpg',\n",
       " '00000042.jpg',\n",
       " '00000136.png',\n",
       " '00000151.png',\n",
       " '00000145.jpg',\n",
       " '00000186.jpg',\n",
       " '00000192.jpg',\n",
       " '00000019.jpg',\n",
       " '00000031.jpg',\n",
       " '00000025.jpg',\n",
       " '00000024.jpg',\n",
       " '00000018.jpg',\n",
       " '00000193.jpg',\n",
       " '00000178.jpg',\n",
       " '00000150.png',\n",
       " '00000026.jpg',\n",
       " '00000054.jpeg',\n",
       " '00000194.jpg',\n",
       " '00000037.jpg',\n",
       " '00000195.jpg',\n",
       " '00000168.jpg',\n",
       " '00000034.jpg',\n",
       " '00000020.jpg',\n",
       " '00000008.jpg',\n",
       " '00000009.png',\n",
       " '00000182.jpg',\n",
       " '00000169.jpg']"
      ]
     },
     "execution_count": 5,
     "metadata": {},
     "output_type": "execute_result"
    }
   ],
   "source": [
    "os.listdir(f\"Chessman-image-dataset/Chess/{direk[0]}\")"
   ]
  },
  {
   "cell_type": "markdown",
   "id": "ed399d7d",
   "metadata": {},
   "source": [
    "# TEKNIK CNN"
   ]
  },
  {
   "cell_type": "code",
   "execution_count": 6,
   "id": "1204135c",
   "metadata": {},
   "outputs": [
    {
     "data": {
      "text/plain": [
       "'Chessman-image-dataset/Chess'"
      ]
     },
     "execution_count": 6,
     "metadata": {},
     "output_type": "execute_result"
    }
   ],
   "source": [
    "train_dir = os.path.join('Chessman-image-dataset/Chess')\n",
    "train_dir"
   ]
  },
  {
   "cell_type": "markdown",
   "id": "895c0ee4",
   "metadata": {},
   "source": [
    "# DATA GAMBAR"
   ]
  },
  {
   "cell_type": "code",
   "execution_count": 7,
   "id": "eea76784",
   "metadata": {},
   "outputs": [],
   "source": [
    "data_train = ImageDataGenerator(rescale=1./255, \n",
    "                             rotation_range=20, \n",
    "                             zoom_range=0.2, \n",
    "                             shear_range=0.2, \n",
    "                             fill_mode = 'nearest', \n",
    "                             validation_split=0.1) # set validation split"
   ]
  },
  {
   "cell_type": "markdown",
   "id": "a915ba29",
   "metadata": {},
   "source": [
    "# PROSES SPLITING GAMBAR"
   ]
  },
  {
   "cell_type": "code",
   "execution_count": 8,
   "id": "ceff24a4",
   "metadata": {},
   "outputs": [
    {
     "name": "stdout",
     "output_type": "stream",
     "text": [
      "Found 499 images belonging to 6 classes.\n",
      "Found 52 images belonging to 6 classes.\n"
     ]
    }
   ],
   "source": [
    "X_train = data_train.flow_from_directory(train_dir, \n",
    "                                         target_size=(150, 150), \n",
    "                                         batch_size=8, \n",
    "                                         class_mode='categorical', \n",
    "                                         subset='training') # set as training data\n",
    "\n",
    "validation_data = data_train.flow_from_directory(train_dir, # same directory as training data\n",
    "                                        target_size=(150, 150),\n",
    "                                        batch_size=16,\n",
    "                                        class_mode='categorical',\n",
    "                                        subset='validation')"
   ]
  },
  {
   "cell_type": "code",
   "execution_count": 9,
   "id": "6b5c8cb5",
   "metadata": {},
   "outputs": [
    {
     "name": "stderr",
     "output_type": "stream",
     "text": [
      "2022-08-30 19:53:21.993963: W tensorflow/stream_executor/platform/default/dso_loader.cc:64] Could not load dynamic library 'libcuda.so.1'; dlerror: libcuda.so.1: cannot open shared object file: No such file or directory\n",
      "2022-08-30 19:53:21.993995: W tensorflow/stream_executor/cuda/cuda_driver.cc:269] failed call to cuInit: UNKNOWN ERROR (303)\n",
      "2022-08-30 19:53:21.994016: I tensorflow/stream_executor/cuda/cuda_diagnostics.cc:156] kernel driver does not appear to be running on this host (parrot-swiftsf31459): /proc/driver/nvidia/version does not exist\n",
      "2022-08-30 19:53:21.994274: I tensorflow/core/platform/cpu_feature_guard.cc:193] This TensorFlow binary is optimized with oneAPI Deep Neural Network Library (oneDNN) to use the following CPU instructions in performance-critical operations:  AVX2 AVX512F AVX512_VNNI FMA\n",
      "To enable them in other operations, rebuild TensorFlow with the appropriate compiler flags.\n"
     ]
    }
   ],
   "source": [
    "model = Sequential([\n",
    "    # Note the input shape is the desired size of the image 150x150 with 3 bytes color\n",
    "    layers.Conv2D(64, (3,3), activation='relu', input_shape=(150, 150, 3)),\n",
    "    layers.MaxPooling2D(2,2),\n",
    "    layers.Conv2D(32, (3,3), activation='relu'),\n",
    "    layers.MaxPooling2D(2,2),\n",
    "    layers.Dropout(0.2),  \n",
    "    layers.Conv2D(64, (3,3), activation='relu'), \n",
    "    layers.MaxPooling2D(2,2),\n",
    "    layers.Dropout(0.3),  \n",
    "    # Flatten the results to feed into a DNN\n",
    "    layers.Flatten(), \n",
    "    # 512 neuron hidden layer\n",
    "    layers.Dense(512, kernel_regularizer=l2(0.00001), activation='relu'),\n",
    "    layers.Dense(256, kernel_regularizer=l2(0.00001), activation='relu'),\n",
    "    layers.Dense(6, activation='softmax')  \n",
    "])"
   ]
  },
  {
   "cell_type": "code",
   "execution_count": 10,
   "id": "18b3e488",
   "metadata": {},
   "outputs": [],
   "source": [
    "model.compile(optimizer=\"Adam\",\n",
    "              loss='categorical_crossentropy',\n",
    "              metrics = ['accuracy'])"
   ]
  },
  {
   "cell_type": "code",
   "execution_count": null,
   "id": "38505ea0",
   "metadata": {
    "scrolled": true
   },
   "outputs": [
    {
     "name": "stdout",
     "output_type": "stream",
     "text": [
      "Epoch 1/30\n",
      "63/63 - 6s - loss: 1.8259 - accuracy: 0.1743 - val_loss: 1.7794 - val_accuracy: 0.1923 - 6s/epoch - 99ms/step\n",
      "Epoch 2/30\n",
      "63/63 - 5s - loss: 1.7736 - accuracy: 0.2004 - val_loss: 1.7473 - val_accuracy: 0.3269 - 5s/epoch - 85ms/step\n",
      "Epoch 3/30\n",
      "63/63 - 5s - loss: 1.7339 - accuracy: 0.2786 - val_loss: 1.7505 - val_accuracy: 0.2500 - 5s/epoch - 85ms/step\n",
      "Epoch 4/30\n",
      "63/63 - 5s - loss: 1.6909 - accuracy: 0.2605 - val_loss: 1.8290 - val_accuracy: 0.2500 - 5s/epoch - 87ms/step\n",
      "Epoch 5/30\n",
      "63/63 - 6s - loss: 1.6406 - accuracy: 0.3166 - val_loss: 1.7295 - val_accuracy: 0.2500 - 6s/epoch - 91ms/step\n",
      "Epoch 6/30\n",
      "63/63 - 6s - loss: 1.5902 - accuracy: 0.3126 - val_loss: 1.6507 - val_accuracy: 0.3269 - 6s/epoch - 90ms/step\n",
      "Epoch 7/30\n",
      "63/63 - 6s - loss: 1.5487 - accuracy: 0.3447 - val_loss: 1.7884 - val_accuracy: 0.2115 - 6s/epoch - 92ms/step\n",
      "Epoch 8/30\n",
      "63/63 - 6s - loss: 1.4719 - accuracy: 0.4088 - val_loss: 1.4503 - val_accuracy: 0.3462 - 6s/epoch - 93ms/step\n",
      "Epoch 9/30\n",
      "63/63 - 6s - loss: 1.3867 - accuracy: 0.4729 - val_loss: 1.6907 - val_accuracy: 0.3654 - 6s/epoch - 93ms/step\n",
      "Epoch 10/30\n",
      "63/63 - 6s - loss: 1.3340 - accuracy: 0.4549 - val_loss: 1.4380 - val_accuracy: 0.4231 - 6s/epoch - 93ms/step\n",
      "Epoch 11/30\n",
      "63/63 - 6s - loss: 1.2914 - accuracy: 0.4790 - val_loss: 1.5256 - val_accuracy: 0.3654 - 6s/epoch - 93ms/step\n",
      "Epoch 12/30\n",
      "63/63 - 6s - loss: 1.1962 - accuracy: 0.5271 - val_loss: 1.4736 - val_accuracy: 0.4038 - 6s/epoch - 92ms/step\n",
      "Epoch 13/30\n",
      "63/63 - 6s - loss: 1.1090 - accuracy: 0.5691 - val_loss: 1.5619 - val_accuracy: 0.5385 - 6s/epoch - 95ms/step\n",
      "Epoch 14/30\n",
      "63/63 - 6s - loss: 1.0591 - accuracy: 0.5952 - val_loss: 1.3810 - val_accuracy: 0.5000 - 6s/epoch - 95ms/step\n",
      "Epoch 15/30\n",
      "63/63 - 6s - loss: 0.9969 - accuracy: 0.6192 - val_loss: 1.4805 - val_accuracy: 0.4615 - 6s/epoch - 94ms/step\n",
      "Epoch 16/30\n",
      "63/63 - 6s - loss: 0.9148 - accuracy: 0.6573 - val_loss: 1.1789 - val_accuracy: 0.4423 - 6s/epoch - 94ms/step\n",
      "Epoch 17/30\n",
      "63/63 - 6s - loss: 0.8566 - accuracy: 0.6774 - val_loss: 1.1473 - val_accuracy: 0.5385 - 6s/epoch - 95ms/step\n",
      "Epoch 18/30\n",
      "63/63 - 6s - loss: 0.8941 - accuracy: 0.6794 - val_loss: 1.3961 - val_accuracy: 0.5385 - 6s/epoch - 94ms/step\n",
      "Epoch 19/30\n",
      "63/63 - 6s - loss: 0.8434 - accuracy: 0.7094 - val_loss: 1.2994 - val_accuracy: 0.4423 - 6s/epoch - 96ms/step\n",
      "Epoch 20/30\n",
      "63/63 - 6s - loss: 0.7613 - accuracy: 0.7295 - val_loss: 1.2386 - val_accuracy: 0.5385 - 6s/epoch - 95ms/step\n",
      "Epoch 21/30\n",
      "63/63 - 6s - loss: 0.7636 - accuracy: 0.6994 - val_loss: 1.1189 - val_accuracy: 0.5577 - 6s/epoch - 97ms/step\n",
      "Epoch 22/30\n",
      "63/63 - 6s - loss: 0.5779 - accuracy: 0.7896 - val_loss: 1.4247 - val_accuracy: 0.5000 - 6s/epoch - 94ms/step\n",
      "Epoch 23/30\n",
      "63/63 - 6s - loss: 0.6080 - accuracy: 0.7996 - val_loss: 1.3008 - val_accuracy: 0.5000 - 6s/epoch - 94ms/step\n",
      "Epoch 24/30\n",
      "63/63 - 6s - loss: 0.6531 - accuracy: 0.7735 - val_loss: 1.2198 - val_accuracy: 0.5769 - 6s/epoch - 96ms/step\n",
      "Epoch 25/30\n",
      "63/63 - 6s - loss: 0.5646 - accuracy: 0.7996 - val_loss: 1.1836 - val_accuracy: 0.5577 - 6s/epoch - 97ms/step\n",
      "Epoch 26/30\n"
     ]
    }
   ],
   "source": [
    "history = model.fit(X_train,\n",
    "                    validation_data=validation_data,\n",
    "                    batch_size=300,\n",
    "                    epochs=30, \n",
    "                    verbose=2)"
   ]
  },
  {
   "cell_type": "code",
   "execution_count": null,
   "id": "2d325283",
   "metadata": {},
   "outputs": [],
   "source": [
    "fig, ((ax1, ax2), (ax3, ax4)) = plt.subplots(2, 2, figsize=(12,7))\n",
    "ax1.plot(history.history[\"accuracy\"])\n",
    "ax1.set_title(\"ACCURACY\")\n",
    "ax1.set_ylabel(\"Accuracy\")\n",
    "ax1.set_xlabel(\"Epoch\")\n",
    "\n",
    "ax2.plot(history.history[\"val_accuracy\"])\n",
    "ax2.set_title(\"VALL ACCURACY\")\n",
    "ax2.set_ylabel(\"Vall Accuracy\")\n",
    "ax2.set_xlabel(\"Epoch\");\n",
    "\n",
    "ax3.plot(history.history[\"loss\"])\n",
    "ax3.set_title(\"LOSS\")\n",
    "ax3.set_ylabel(\"Loss\")\n",
    "ax3.set_xlabel(\"Epoch\")\n",
    "\n",
    "ax4.plot(history.history[\"val_loss\"])\n",
    "ax4.set_title(\"VALL LOSS\")\n",
    "ax4.set_ylabel(\"Vall Loss\")\n",
    "ax4.set_xlabel(\"Epoch\");\n",
    "fig.tight_layout(pad=0.6)"
   ]
  },
  {
   "cell_type": "code",
   "execution_count": null,
   "id": "ae1301c6",
   "metadata": {},
   "outputs": [],
   "source": []
  }
 ],
 "metadata": {
  "kernelspec": {
   "display_name": "Python 3 (ipykernel)",
   "language": "python",
   "name": "python3"
  },
  "language_info": {
   "codemirror_mode": {
    "name": "ipython",
    "version": 3
   },
   "file_extension": ".py",
   "mimetype": "text/x-python",
   "name": "python",
   "nbconvert_exporter": "python",
   "pygments_lexer": "ipython3",
   "version": "3.9.2"
  }
 },
 "nbformat": 4,
 "nbformat_minor": 5
}
