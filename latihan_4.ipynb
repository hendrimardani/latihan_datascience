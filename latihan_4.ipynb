{
 "cells": [
  {
   "cell_type": "markdown",
   "metadata": {
    "id": "Cjhlbq3Up38s"
   },
   "source": [
    "Proses pekerjaan kurang lebih **12 Jam** , sebelumnya menggunakan dataset total 6000 gambar, karena validasi mentok 75%, sekarang ditambah menjadi 18000 gambar validasi mentok 80%, dan val_loss naik drastis (Overfit). Mungkin harus ditambahan lagi dataset gambarnya"
   ]
  },
  {
   "cell_type": "code",
   "execution_count": null,
   "metadata": {
    "id": "4tTjw0jxaiLw"
   },
   "outputs": [],
   "source": [
    "import os\n",
    "import zipfile\n",
    "import tensorflow as tf\n",
    "from tensorflow.keras.preprocessing.image import ImageDataGenerator\n",
    "from tensorflow.keras import layers, Sequential\n",
    "from tensorflow.keras.applications import ResNet152V2\n",
    "from tensorflow.keras.layers import Input\n",
    "import pathlib\n",
    "import numpy as np\n",
    "import matplotlib.pyplot as plt\n",
    "import seaborn as sns\n",
    "sns.set()"
   ]
  },
  {
   "cell_type": "code",
   "execution_count": null,
   "metadata": {
    "colab": {
     "base_uri": "https://localhost:8080/"
    },
    "id": "6o9XpZD3a9Z8",
    "outputId": "ded816e0-7967-4901-fbfb-93b46c7501dc"
   },
   "outputs": [
    {
     "name": "stdout",
     "output_type": "stream",
     "text": [
      "Mounted at /content/drive\n"
     ]
    }
   ],
   "source": [
    "from google.colab import drive\n",
    "drive.mount('/content/drive')"
   ]
  },
  {
   "cell_type": "code",
   "execution_count": null,
   "metadata": {
    "id": "CRJsLjSxhiG8"
   },
   "outputs": [],
   "source": [
    "!cp /content/drive/MyDrive/Machine\\ Learning/HumanCatDog.zip ../tmp/dataset/"
   ]
  },
  {
   "cell_type": "code",
   "execution_count": null,
   "metadata": {
    "id": "jqXoKM49h2z8"
   },
   "outputs": [],
   "source": [
    "local_zip = '../tmp/dataset/HumanCatDog.zip'\n",
    "zip_ref = zipfile.ZipFile(local_zip, 'r')\n",
    "zip_ref.extractall('../tmp/dataset/')\n",
    "zip_ref.close()\n",
    "     \n",
    "base_dir = '../tmp/dataset/HumanCatDog'\n",
    "train_dir = os.path.join(base_dir, 'train')\n",
    "validation_dir = os.path.join(base_dir, 'validation')"
   ]
  },
  {
   "cell_type": "code",
   "execution_count": null,
   "metadata": {
    "colab": {
     "base_uri": "https://localhost:8080/"
    },
    "id": "sclx0kI9iOl0",
    "outputId": "caa01688-8919-4f75-98d3-d8a19e7c236c"
   },
   "outputs": [
    {
     "name": "stdout",
     "output_type": "stream",
     "text": [
      "Jumlah validation =  1200\n",
      "Jumlah validation =  1200\n",
      "Jumlah validation =  1200\n",
      "Jumlah train =  4800\n",
      "Jumlah train =  4800\n",
      "Jumlah train =  4800\n",
      "Jumlah total train 14400 \n",
      "Jumlah total val 3600\n"
     ]
    }
   ],
   "source": [
    "direktori = os.listdir(\"/tmp/dataset/HumanCatDog\")\n",
    "sub_dir = os.listdir(\"/tmp/dataset/HumanCatDog/train\")\n",
    "hitung = 0\n",
    "hasil_train = []\n",
    "hasil_val = []\n",
    "\n",
    "for x in range(len(direktori)):\n",
    "  for y in range(len(sub_dir)):\n",
    "      print(f\"Jumlah {direktori[x]} = \", len(os.listdir(f\"/tmp/dataset/HumanCatDog/{direktori[x]}/{sub_dir[y]}\")))\n",
    "      hitung = len(os.listdir(f\"/tmp/dataset/HumanCatDog/{direktori[x]}/{sub_dir[y]}\"))\n",
    "\n",
    "      if direktori[x] == \"train\":\n",
    "        hasil_train.append(hitung)\n",
    "      else:\n",
    "        hasil_val.append(hitung)\n",
    "\n",
    "print(\"Jumlah total train\", sum(hasil_train), \"\\nJumlah total val\", sum(hasil_val))"
   ]
  },
  {
   "cell_type": "code",
   "execution_count": null,
   "metadata": {
    "colab": {
     "base_uri": "https://localhost:8080/"
    },
    "id": "t9uYPtlmiz0o",
    "outputId": "96e43dc6-066c-493c-ba01-c9b970af5049"
   },
   "outputs": [
    {
     "name": "stdout",
     "output_type": "stream",
     "text": [
      "Found 14398 images belonging to 3 classes.\n",
      "Found 3598 images belonging to 3 classes.\n"
     ]
    }
   ],
   "source": [
    "train_datagen = ImageDataGenerator(\n",
    "                    rescale=1./255,\n",
    "                    rotation_range=0.2,\n",
    "                    zoom_range=0.2,\n",
    "                    horizontal_flip=True,\n",
    "                    shear_range = 0.2,\n",
    "                    fill_mode = 'nearest')\n",
    " \n",
    "test_datagen = ImageDataGenerator(rescale=1./255)\n",
    "\n",
    "train_generator = train_datagen.flow_from_directory(\n",
    "            train_dir,  \n",
    "            target_size=(150, 150),  \n",
    "            batch_size=32,\n",
    "            class_mode='categorical')     \n",
    "validation_generator = test_datagen.flow_from_directory(\n",
    "            validation_dir, \n",
    "            target_size=(150, 150), \n",
    "            batch_size=32,\n",
    "            class_mode='categorical')"
   ]
  },
  {
   "cell_type": "code",
   "execution_count": null,
   "metadata": {
    "colab": {
     "base_uri": "https://localhost:8080/"
    },
    "id": "g-QveahwjEQM",
    "outputId": "509c831f-56b9-4cc4-b7a4-f7e95c8f4736"
   },
   "outputs": [
    {
     "name": "stdout",
     "output_type": "stream",
     "text": [
      "Downloading data from https://storage.googleapis.com/tensorflow/keras-applications/resnet/resnet152v2_weights_tf_dim_ordering_tf_kernels_notop.h5\n",
      "234553344/234545216 [==============================] - 7s 0us/step\n",
      "234561536/234545216 [==============================] - 7s 0us/step\n"
     ]
    }
   ],
   "source": [
    "model = Sequential([\n",
    "    ResNet152V2(weights=\"imagenet\", include_top=False, input_tensor=Input(shape=(150, 150, 3))),\n",
    "    layers.Conv2D(64, (3,3), strides=(1,1), padding=\"same\"),\n",
    "    layers.BatchNormalization(),\n",
    "    layers.MaxPooling2D(2, 2),\n",
    "    layers.Dropout(0.5),\n",
    "    layers.Flatten(),\n",
    "    layers.Dense(64, activation='relu'),\n",
    "    layers.Dropout(0.7),\n",
    "    layers.Dense(3, activation='softmax')\n",
    "])\n",
    "\n",
    "model.layers[0].trainable = False"
   ]
  },
  {
   "cell_type": "code",
   "execution_count": null,
   "metadata": {
    "colab": {
     "base_uri": "https://localhost:8080/"
    },
    "id": "Kn4cKOBPMAiE",
    "outputId": "fb0c0894-ddbf-4070-a70f-400a3fd9e246"
   },
   "outputs": [
    {
     "name": "stdout",
     "output_type": "stream",
     "text": [
      "Model: \"sequential\"\n",
      "_________________________________________________________________\n",
      " Layer (type)                Output Shape              Param #   \n",
      "=================================================================\n",
      " resnet152v2 (Functional)    (None, 5, 5, 2048)        58331648  \n",
      "                                                                 \n",
      " conv2d (Conv2D)             (None, 5, 5, 64)          1179712   \n",
      "                                                                 \n",
      " batch_normalization (BatchN  (None, 5, 5, 64)         256       \n",
      " ormalization)                                                   \n",
      "                                                                 \n",
      " max_pooling2d_3 (MaxPooling  (None, 2, 2, 64)         0         \n",
      " 2D)                                                             \n",
      "                                                                 \n",
      " dropout (Dropout)           (None, 2, 2, 64)          0         \n",
      "                                                                 \n",
      " flatten (Flatten)           (None, 256)               0         \n",
      "                                                                 \n",
      " dense (Dense)               (None, 64)                16448     \n",
      "                                                                 \n",
      " dropout_1 (Dropout)         (None, 64)                0         \n",
      "                                                                 \n",
      " dense_1 (Dense)             (None, 3)                 195       \n",
      "                                                                 \n",
      "=================================================================\n",
      "Total params: 59,528,259\n",
      "Trainable params: 1,196,483\n",
      "Non-trainable params: 58,331,776\n",
      "_________________________________________________________________\n"
     ]
    }
   ],
   "source": [
    "model.summary()"
   ]
  },
  {
   "cell_type": "code",
   "execution_count": null,
   "metadata": {
    "id": "je9pcxcxjHhk"
   },
   "outputs": [],
   "source": [
    "model.compile(loss='categorical_crossentropy',\n",
    "              optimizer=tf.optimizers.Adam(learning_rate=1e-6),\n",
    "              metrics=['accuracy'])"
   ]
  },
  {
   "cell_type": "code",
   "execution_count": null,
   "metadata": {
    "id": "pNyNQFUKkAPQ"
   },
   "outputs": [],
   "source": [
    "class myCallback(tf.keras.callbacks.Callback):\n",
    "    def on_epoch_end(self, epoch, logs={}):\n",
    "        if(logs.get('accuracy') > 0.85 and logs.get('val_accuracy') > 0.8):\n",
    "            print(\"\\nAkurasi telah mencapai > 85%! dan Val Accuracy telah mencapai 80%!\")\n",
    "            self.model.stop_training = True\n",
    "callbacks = myCallback()"
   ]
  },
  {
   "cell_type": "code",
   "execution_count": null,
   "metadata": {
    "colab": {
     "base_uri": "https://localhost:8080/"
    },
    "id": "LQ3uEBhpqv50",
    "outputId": "b82f2307-d153-400d-bf08-8219a88707f4"
   },
   "outputs": [
    {
     "name": "stdout",
     "output_type": "stream",
     "text": [
      "Epoch 1/100\n",
      "450/450 - 204s - loss: 2.1862 - accuracy: 0.4107 - val_loss: 0.9638 - val_accuracy: 0.5698 - 204s/epoch - 452ms/step\n",
      "Epoch 2/100\n",
      "450/450 - 180s - loss: 1.6995 - accuracy: 0.4848 - val_loss: 0.7800 - val_accuracy: 0.6676 - 180s/epoch - 400ms/step\n",
      "Epoch 3/100\n",
      "450/450 - 179s - loss: 1.3919 - accuracy: 0.5541 - val_loss: 0.6873 - val_accuracy: 0.7290 - 179s/epoch - 398ms/step\n",
      "Epoch 4/100\n",
      "450/450 - 179s - loss: 1.2164 - accuracy: 0.5881 - val_loss: 0.6336 - val_accuracy: 0.7549 - 179s/epoch - 398ms/step\n",
      "Epoch 5/100\n",
      "450/450 - 179s - loss: 1.0837 - accuracy: 0.6188 - val_loss: 0.5982 - val_accuracy: 0.7713 - 179s/epoch - 397ms/step\n",
      "Epoch 6/100\n",
      "450/450 - 179s - loss: 0.9680 - accuracy: 0.6514 - val_loss: 0.5757 - val_accuracy: 0.7774 - 179s/epoch - 397ms/step\n",
      "Epoch 7/100\n",
      "450/450 - 179s - loss: 0.8569 - accuracy: 0.6839 - val_loss: 0.5569 - val_accuracy: 0.7802 - 179s/epoch - 399ms/step\n",
      "Epoch 8/100\n",
      "450/450 - 180s - loss: 0.8068 - accuracy: 0.7027 - val_loss: 0.5485 - val_accuracy: 0.7840 - 180s/epoch - 400ms/step\n",
      "Epoch 9/100\n",
      "450/450 - 179s - loss: 0.7544 - accuracy: 0.7185 - val_loss: 0.5402 - val_accuracy: 0.7860 - 179s/epoch - 397ms/step\n",
      "Epoch 10/100\n",
      "450/450 - 179s - loss: 0.7050 - accuracy: 0.7375 - val_loss: 0.5370 - val_accuracy: 0.7846 - 179s/epoch - 398ms/step\n",
      "Epoch 11/100\n",
      "450/450 - 178s - loss: 0.6593 - accuracy: 0.7538 - val_loss: 0.5324 - val_accuracy: 0.7840 - 178s/epoch - 397ms/step\n",
      "Epoch 12/100\n",
      "450/450 - 179s - loss: 0.6289 - accuracy: 0.7640 - val_loss: 0.5308 - val_accuracy: 0.7863 - 179s/epoch - 397ms/step\n",
      "Epoch 13/100\n",
      "450/450 - 178s - loss: 0.6007 - accuracy: 0.7736 - val_loss: 0.5295 - val_accuracy: 0.7865 - 178s/epoch - 396ms/step\n",
      "Epoch 14/100\n",
      "450/450 - 179s - loss: 0.5695 - accuracy: 0.7859 - val_loss: 0.5320 - val_accuracy: 0.7871 - 179s/epoch - 398ms/step\n",
      "Epoch 15/100\n",
      "450/450 - 180s - loss: 0.5493 - accuracy: 0.7954 - val_loss: 0.5343 - val_accuracy: 0.7877 - 180s/epoch - 399ms/step\n",
      "Epoch 16/100\n",
      "450/450 - 179s - loss: 0.5207 - accuracy: 0.8022 - val_loss: 0.5349 - val_accuracy: 0.7877 - 179s/epoch - 397ms/step\n",
      "Epoch 17/100\n",
      "450/450 - 178s - loss: 0.5123 - accuracy: 0.8078 - val_loss: 0.5343 - val_accuracy: 0.7885 - 178s/epoch - 397ms/step\n",
      "Epoch 18/100\n",
      "450/450 - 179s - loss: 0.4844 - accuracy: 0.8226 - val_loss: 0.5378 - val_accuracy: 0.7882 - 179s/epoch - 398ms/step\n",
      "Epoch 19/100\n",
      "450/450 - 179s - loss: 0.4739 - accuracy: 0.8216 - val_loss: 0.5383 - val_accuracy: 0.7890 - 179s/epoch - 399ms/step\n",
      "Epoch 20/100\n",
      "450/450 - 179s - loss: 0.4545 - accuracy: 0.8331 - val_loss: 0.5366 - val_accuracy: 0.7907 - 179s/epoch - 398ms/step\n",
      "Epoch 21/100\n",
      "450/450 - 180s - loss: 0.4573 - accuracy: 0.8359 - val_loss: 0.5439 - val_accuracy: 0.7904 - 180s/epoch - 400ms/step\n",
      "Epoch 22/100\n",
      "450/450 - 180s - loss: 0.4378 - accuracy: 0.8384 - val_loss: 0.5436 - val_accuracy: 0.7921 - 180s/epoch - 400ms/step\n",
      "Epoch 23/100\n",
      "450/450 - 179s - loss: 0.4269 - accuracy: 0.8436 - val_loss: 0.5457 - val_accuracy: 0.7921 - 179s/epoch - 398ms/step\n",
      "Epoch 24/100\n",
      "450/450 - 180s - loss: 0.4018 - accuracy: 0.8583 - val_loss: 0.5491 - val_accuracy: 0.7910 - 180s/epoch - 399ms/step\n",
      "Epoch 25/100\n",
      "450/450 - 179s - loss: 0.3885 - accuracy: 0.8591 - val_loss: 0.5535 - val_accuracy: 0.7910 - 179s/epoch - 399ms/step\n",
      "Epoch 26/100\n",
      "450/450 - 179s - loss: 0.3953 - accuracy: 0.8582 - val_loss: 0.5526 - val_accuracy: 0.7918 - 179s/epoch - 398ms/step\n",
      "Epoch 27/100\n",
      "450/450 - 178s - loss: 0.3839 - accuracy: 0.8610 - val_loss: 0.5548 - val_accuracy: 0.7921 - 178s/epoch - 396ms/step\n",
      "Epoch 28/100\n",
      "450/450 - 179s - loss: 0.3766 - accuracy: 0.8639 - val_loss: 0.5596 - val_accuracy: 0.7916 - 179s/epoch - 397ms/step\n",
      "Epoch 29/100\n",
      "450/450 - 178s - loss: 0.3702 - accuracy: 0.8670 - val_loss: 0.5594 - val_accuracy: 0.7927 - 178s/epoch - 396ms/step\n",
      "Epoch 30/100\n",
      "450/450 - 179s - loss: 0.3711 - accuracy: 0.8687 - val_loss: 0.5616 - val_accuracy: 0.7935 - 179s/epoch - 397ms/step\n",
      "Epoch 31/100\n",
      "450/450 - 179s - loss: 0.3607 - accuracy: 0.8696 - val_loss: 0.5606 - val_accuracy: 0.7952 - 179s/epoch - 397ms/step\n",
      "Epoch 32/100\n",
      "450/450 - 181s - loss: 0.3424 - accuracy: 0.8764 - val_loss: 0.5655 - val_accuracy: 0.7938 - 181s/epoch - 403ms/step\n",
      "Epoch 33/100\n",
      "450/450 - 179s - loss: 0.3579 - accuracy: 0.8756 - val_loss: 0.5650 - val_accuracy: 0.7957 - 179s/epoch - 397ms/step\n",
      "Epoch 34/100\n",
      "450/450 - 179s - loss: 0.3465 - accuracy: 0.8791 - val_loss: 0.5696 - val_accuracy: 0.7943 - 179s/epoch - 398ms/step\n",
      "Epoch 35/100\n",
      "450/450 - 180s - loss: 0.3242 - accuracy: 0.8807 - val_loss: 0.5699 - val_accuracy: 0.7963 - 180s/epoch - 400ms/step\n",
      "Epoch 36/100\n",
      "450/450 - 179s - loss: 0.3252 - accuracy: 0.8847 - val_loss: 0.5718 - val_accuracy: 0.7957 - 179s/epoch - 398ms/step\n",
      "Epoch 37/100\n",
      "450/450 - 179s - loss: 0.3181 - accuracy: 0.8893 - val_loss: 0.5755 - val_accuracy: 0.7957 - 179s/epoch - 397ms/step\n",
      "Epoch 38/100\n",
      "450/450 - 179s - loss: 0.3182 - accuracy: 0.8871 - val_loss: 0.5784 - val_accuracy: 0.7952 - 179s/epoch - 397ms/step\n",
      "Epoch 39/100\n",
      "450/450 - 179s - loss: 0.3239 - accuracy: 0.8903 - val_loss: 0.5790 - val_accuracy: 0.7957 - 179s/epoch - 397ms/step\n",
      "Epoch 40/100\n",
      "450/450 - 179s - loss: 0.2999 - accuracy: 0.8960 - val_loss: 0.5767 - val_accuracy: 0.7974 - 179s/epoch - 397ms/step\n",
      "Epoch 41/100\n",
      "450/450 - 178s - loss: 0.2997 - accuracy: 0.8953 - val_loss: 0.5825 - val_accuracy: 0.7963 - 178s/epoch - 396ms/step\n",
      "Epoch 42/100\n",
      "450/450 - 178s - loss: 0.3084 - accuracy: 0.8937 - val_loss: 0.5844 - val_accuracy: 0.7968 - 178s/epoch - 395ms/step\n",
      "Epoch 43/100\n",
      "450/450 - 180s - loss: 0.2904 - accuracy: 0.9015 - val_loss: 0.5891 - val_accuracy: 0.7960 - 180s/epoch - 399ms/step\n",
      "Epoch 44/100\n",
      "450/450 - 180s - loss: 0.2984 - accuracy: 0.8990 - val_loss: 0.5838 - val_accuracy: 0.7991 - 180s/epoch - 399ms/step\n",
      "Epoch 45/100\n",
      "450/450 - 178s - loss: 0.2937 - accuracy: 0.9003 - val_loss: 0.5914 - val_accuracy: 0.7974 - 178s/epoch - 395ms/step\n",
      "Epoch 46/100\n",
      "450/450 - 178s - loss: 0.2939 - accuracy: 0.9004 - val_loss: 0.5901 - val_accuracy: 0.7982 - 178s/epoch - 396ms/step\n",
      "Epoch 47/100\n",
      "450/450 - 179s - loss: 0.2836 - accuracy: 0.9042 - val_loss: 0.5947 - val_accuracy: 0.7960 - 179s/epoch - 397ms/step\n",
      "Epoch 48/100\n",
      "450/450 - 178s - loss: 0.2905 - accuracy: 0.9033 - val_loss: 0.5870 - val_accuracy: 0.7993 - 178s/epoch - 396ms/step\n",
      "Epoch 49/100\n",
      "450/450 - 179s - loss: 0.2707 - accuracy: 0.9067 - val_loss: 0.5943 - val_accuracy: 0.7982 - 179s/epoch - 398ms/step\n",
      "Epoch 50/100\n",
      "\n",
      "Akurasi telah mencapai > 85%! dan Val Accuracy telah mencapai 80%!\n",
      "450/450 - 179s - loss: 0.2790 - accuracy: 0.9055 - val_loss: 0.5956 - val_accuracy: 0.8002 - 179s/epoch - 397ms/step\n"
     ]
    }
   ],
   "source": [
    "history = model.fit(train_generator, \n",
    "                    validation_data=validation_generator, \n",
    "                    epochs=100, callbacks=[callbacks],\n",
    "                    batch_size=128, verbose=2)"
   ]
  },
  {
   "cell_type": "code",
   "execution_count": null,
   "metadata": {
    "colab": {
     "base_uri": "https://localhost:8080/",
     "height": 518
    },
    "id": "GJ3cju-Xsvls",
    "outputId": "77888fba-82a2-47e3-cda3-7b4a301446b4"
   },
   "outputs": [
    {
     "data": {
      "image/png": "[encoded data removed]",
      "text/plain": [
       "<Figure size 864x576 with 2 Axes>"
      ]
     },
     "metadata": {},
     "output_type": "display_data"
    }
   ],
   "source": [
    "fig, (ax1,ax2) = plt.subplots(1,2, figsize=(12,8))\n",
    "ax1.plot(history.history[\"accuracy\"], label=\"acc\")\n",
    "ax1.plot(history.history[\"val_accuracy\"], label=\"val_acc\")\n",
    "ax1.set_title(\"AKURASI\")\n",
    "ax1.set_xlabel(\"Epoch\")\n",
    "ax1.legend()\n",
    "\n",
    "ax2.plot(history.history[\"loss\"], label=\"loss\")\n",
    "ax2.plot(history.history[\"val_loss\"], label=\"val_loss\")\n",
    "ax2.set_title(\"LOSS\")\n",
    "ax2.set_xlabel(\"Epoch\")\n",
    "ax2.legend()\n",
    "plt.show()"
   ]
  },
  {
   "cell_type": "code",
   "execution_count": 38,
   "metadata": {
    "id": "_qIIvOd2uutE"
   },
   "outputs": [],
   "source": [
    "save_path = 'drive/MyDrive/Machine Learning/mymodel/'\n",
    "tf.saved_model.save(model, save_path)"
   ]
  },
  {
   "cell_type": "code",
   "execution_count": 40,
   "metadata": {
    "id": "k5aVwzplqxio"
   },
   "outputs": [],
   "source": [
    "converter = tf.lite.TFLiteConverter.from_saved_model(save_path)\n",
    "tflite_model = converter.convert()\n",
    "\n",
    "with tf.io.gfile.GFile(f'{save_path}model_tflite.tflite', 'wb') as f:\n",
    "    f.write(tflite_model)"
   ]
  }
 ],
 "metadata": {
  "accelerator": "GPU",
  "colab": {
   "collapsed_sections": [],
   "machine_shape": "hm",
   "provenance": []
  },
  "gpuClass": "standard",
  "kernelspec": {
   "display_name": "Python 3 (ipykernel)",
   "language": "python",
   "name": "python3"
  },
  "language_info": {
   "codemirror_mode": {
    "name": "ipython",
    "version": 3
   },
   "file_extension": ".py",
   "mimetype": "text/x-python",
   "name": "python",
   "nbconvert_exporter": "python",
   "pygments_lexer": "ipython3",
   "version": "3.9.2"
  }
 },
 "nbformat": 4,
 "nbformat_minor": 1
}
