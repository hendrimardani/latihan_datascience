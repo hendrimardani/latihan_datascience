{
 "cells": [
  {
   "cell_type": "code",
   "execution_count": 1,
   "id": "9a815a7e",
   "metadata": {},
   "outputs": [],
   "source": [
    "import pandas as pd\n",
    "import numpy as np\n",
    "from sklearn.pipeline import Pipeline\n",
    "from sklearn.preprocessing import StandardScaler\n",
    "from sklearn.preprocessing import PolynomialFeatures\n",
    "from sklearn.linear_model import LinearRegression\n",
    "import matplotlib.pyplot as plt\n",
    "import seaborn as sns\n",
    "sns.set()"
   ]
  },
  {
   "cell_type": "code",
   "execution_count": 2,
   "id": "87137ef0",
   "metadata": {},
   "outputs": [
    {
     "data": {
      "text/html": [
       "<div>\n",
       "<style scoped>\n",
       "    .dataframe tbody tr th:only-of-type {\n",
       "        vertical-align: middle;\n",
       "    }\n",
       "\n",
       "    .dataframe tbody tr th {\n",
       "        vertical-align: top;\n",
       "    }\n",
       "\n",
       "    .dataframe thead th {\n",
       "        text-align: right;\n",
       "    }\n",
       "</style>\n",
       "<table border=\"1\" class=\"dataframe\">\n",
       "  <thead>\n",
       "    <tr style=\"text-align: right;\">\n",
       "      <th></th>\n",
       "      <th>araba_fiyat</th>\n",
       "      <th>araba_max_hiz</th>\n",
       "    </tr>\n",
       "  </thead>\n",
       "  <tbody>\n",
       "    <tr>\n",
       "      <th>0</th>\n",
       "      <td>60</td>\n",
       "      <td>180</td>\n",
       "    </tr>\n",
       "    <tr>\n",
       "      <th>1</th>\n",
       "      <td>70</td>\n",
       "      <td>180</td>\n",
       "    </tr>\n",
       "    <tr>\n",
       "      <th>2</th>\n",
       "      <td>80</td>\n",
       "      <td>200</td>\n",
       "    </tr>\n",
       "    <tr>\n",
       "      <th>3</th>\n",
       "      <td>100</td>\n",
       "      <td>200</td>\n",
       "    </tr>\n",
       "    <tr>\n",
       "      <th>4</th>\n",
       "      <td>120</td>\n",
       "      <td>200</td>\n",
       "    </tr>\n",
       "    <tr>\n",
       "      <th>5</th>\n",
       "      <td>150</td>\n",
       "      <td>220</td>\n",
       "    </tr>\n",
       "    <tr>\n",
       "      <th>6</th>\n",
       "      <td>200</td>\n",
       "      <td>240</td>\n",
       "    </tr>\n",
       "    <tr>\n",
       "      <th>7</th>\n",
       "      <td>250</td>\n",
       "      <td>240</td>\n",
       "    </tr>\n",
       "    <tr>\n",
       "      <th>8</th>\n",
       "      <td>300</td>\n",
       "      <td>300</td>\n",
       "    </tr>\n",
       "    <tr>\n",
       "      <th>9</th>\n",
       "      <td>400</td>\n",
       "      <td>350</td>\n",
       "    </tr>\n",
       "    <tr>\n",
       "      <th>10</th>\n",
       "      <td>500</td>\n",
       "      <td>350</td>\n",
       "    </tr>\n",
       "    <tr>\n",
       "      <th>11</th>\n",
       "      <td>750</td>\n",
       "      <td>360</td>\n",
       "    </tr>\n",
       "    <tr>\n",
       "      <th>12</th>\n",
       "      <td>1000</td>\n",
       "      <td>365</td>\n",
       "    </tr>\n",
       "    <tr>\n",
       "      <th>13</th>\n",
       "      <td>2000</td>\n",
       "      <td>365</td>\n",
       "    </tr>\n",
       "    <tr>\n",
       "      <th>14</th>\n",
       "      <td>3000</td>\n",
       "      <td>365</td>\n",
       "    </tr>\n",
       "  </tbody>\n",
       "</table>\n",
       "</div>"
      ],
      "text/plain": [
       "    araba_fiyat  araba_max_hiz\n",
       "0            60            180\n",
       "1            70            180\n",
       "2            80            200\n",
       "3           100            200\n",
       "4           120            200\n",
       "5           150            220\n",
       "6           200            240\n",
       "7           250            240\n",
       "8           300            300\n",
       "9           400            350\n",
       "10          500            350\n",
       "11          750            360\n",
       "12         1000            365\n",
       "13         2000            365\n",
       "14         3000            365"
      ]
     },
     "execution_count": 2,
     "metadata": {},
     "output_type": "execute_result"
    }
   ],
   "source": [
    "data = pd.read_csv(\"datasets/polynomial-regression.csv\")\n",
    "data"
   ]
  },
  {
   "cell_type": "code",
   "execution_count": 3,
   "id": "57ca44aa",
   "metadata": {},
   "outputs": [
    {
     "data": {
      "text/plain": [
       "<matplotlib.collections.PathCollection at 0x7f4629f01700>"
      ]
     },
     "execution_count": 3,
     "metadata": {},
     "output_type": "execute_result"
    },
    {
     "data": {
      "image/png": "[encoded data removed]",
      "text/plain": [
       "<Figure size 432x288 with 1 Axes>"
      ]
     },
     "metadata": {},
     "output_type": "display_data"
    }
   ],
   "source": [
    "X = data[\"araba_max_hiz\"].values.reshape(-1,1)\n",
    "y = data[\"araba_fiyat\"]\n",
    "\n",
    "plt.scatter(X, y)"
   ]
  },
  {
   "cell_type": "code",
   "execution_count": 4,
   "id": "886c1784",
   "metadata": {},
   "outputs": [
    {
     "data": {
      "text/plain": [
       "array([[-1.26213577],\n",
       "       [-1.26213577],\n",
       "       [-0.99454515],\n",
       "       [-0.99454515],\n",
       "       [-0.99454515],\n",
       "       [-0.72695453],\n",
       "       [-0.4593639 ],\n",
       "       [-0.4593639 ],\n",
       "       [ 0.34340797],\n",
       "       [ 1.01238453],\n",
       "       [ 1.01238453],\n",
       "       [ 1.14617984],\n",
       "       [ 1.21307749],\n",
       "       [ 1.21307749],\n",
       "       [ 1.21307749]])"
      ]
     },
     "execution_count": 4,
     "metadata": {},
     "output_type": "execute_result"
    }
   ],
   "source": [
    "skala = StandardScaler()\n",
    "X = skala.fit_transform(X)\n",
    "X"
   ]
  },
  {
   "cell_type": "code",
   "execution_count": 5,
   "id": "d6ff0492",
   "metadata": {},
   "outputs": [
    {
     "data": {
      "text/plain": [
       "<matplotlib.collections.PathCollection at 0x7f4629efcac0>"
      ]
     },
     "execution_count": 5,
     "metadata": {},
     "output_type": "execute_result"
    },
    {
     "data": {
      "image/png": "[encoded data removed]",
      "text/plain": [
       "<Figure size 432x288 with 1 Axes>"
      ]
     },
     "metadata": {},
     "output_type": "display_data"
    }
   ],
   "source": [
    "plt.scatter(X, y)"
   ]
  },
  {
   "cell_type": "code",
   "execution_count": 6,
   "id": "28994a71",
   "metadata": {},
   "outputs": [
    {
     "data": {
      "text/plain": [
       "array([[ 1.        , -1.26213577,  1.59298671, -2.01056552,  2.53760667],\n",
       "       [ 1.        , -1.26213577,  1.59298671, -2.01056552,  2.53760667],\n",
       "       [ 1.        , -0.99454515,  0.98912006, -0.98372456,  0.97835849],\n",
       "       [ 1.        , -0.99454515,  0.98912006, -0.98372456,  0.97835849],\n",
       "       [ 1.        , -0.99454515,  0.98912006, -0.98372456,  0.97835849],\n",
       "       [ 1.        , -0.72695453,  0.52846288, -0.38416849,  0.27927302],\n",
       "       [ 1.        , -0.4593639 ,  0.2110152 , -0.09693276,  0.04452741],\n",
       "       [ 1.        , -0.4593639 ,  0.2110152 , -0.09693276,  0.04452741],\n",
       "       [ 1.        ,  0.34340797,  0.11792903,  0.04049777,  0.01390726],\n",
       "       [ 1.        ,  1.01238453,  1.02492243,  1.03761561,  1.05046598],\n",
       "       [ 1.        ,  1.01238453,  1.02492243,  1.03761561,  1.05046598],\n",
       "       [ 1.        ,  1.14617984,  1.31372822,  1.5057688 ,  1.72588184],\n",
       "       [ 1.        ,  1.21307749,  1.47155701,  1.78511268,  2.16548002],\n",
       "       [ 1.        ,  1.21307749,  1.47155701,  1.78511268,  2.16548002],\n",
       "       [ 1.        ,  1.21307749,  1.47155701,  1.78511268,  2.16548002]])"
      ]
     },
     "execution_count": 6,
     "metadata": {},
     "output_type": "execute_result"
    }
   ],
   "source": [
    "poly = PolynomialFeatures(degree=4, include_bias=True)\n",
    "X_poly = poly.fit_transform(X)\n",
    "X_poly"
   ]
  },
  {
   "cell_type": "code",
   "execution_count": 7,
   "id": "faa33d6e",
   "metadata": {},
   "outputs": [
    {
     "data": {
      "text/plain": [
       "(376.481425701341,\n",
       " array([    0.        ,  -787.77817019, -1349.68989124,  1028.79917497,\n",
       "         1181.38547112]))"
      ]
     },
     "execution_count": 7,
     "metadata": {},
     "output_type": "execute_result"
    }
   ],
   "source": [
    "model = LinearRegression()\n",
    "model.fit(X_poly, y)\n",
    "model.intercept_, model.coef_"
   ]
  },
  {
   "cell_type": "code",
   "execution_count": 8,
   "id": "4957ef8f",
   "metadata": {},
   "outputs": [
    {
     "data": {
      "image/png": "[encoded data removed]",
      "text/plain": [
       "<Figure size 864x576 with 1 Axes>"
      ]
     },
     "metadata": {},
     "output_type": "display_data"
    }
   ],
   "source": [
    "fig, ax = plt.subplots(figsize=(12,8))\n",
    "plt.scatter(X, y, alpha=0.5)\n",
    "plt.plot(X, model.predict(X_poly), \"r--\", label=\"Prediksi\")\n",
    "plt.legend();"
   ]
  },
  {
   "cell_type": "code",
   "execution_count": 9,
   "id": "c304e783",
   "metadata": {},
   "outputs": [
    {
     "data": {
      "text/plain": [
       "((15, 1), (15,))"
      ]
     },
     "execution_count": 9,
     "metadata": {},
     "output_type": "execute_result"
    }
   ],
   "source": [
    "X.shape, model.predict(X_poly).shape"
   ]
  },
  {
   "cell_type": "code",
   "execution_count": 122,
   "id": "f82c4883",
   "metadata": {},
   "outputs": [
    {
     "data": {
      "text/plain": [
       "0.7350758109035251"
      ]
     },
     "execution_count": 122,
     "metadata": {},
     "output_type": "execute_result"
    }
   ],
   "source": [
    "model.score(X_poly, y)"
   ]
  },
  {
   "cell_type": "code",
   "execution_count": null,
   "id": "8969a4bc",
   "metadata": {},
   "outputs": [],
   "source": []
  }
 ],
 "metadata": {
  "kernelspec": {
   "display_name": "Python 3 (ipykernel)",
   "language": "python",
   "name": "python3"
  },
  "language_info": {
   "codemirror_mode": {
    "name": "ipython",
    "version": 3
   },
   "file_extension": ".py",
   "mimetype": "text/x-python",
   "name": "python",
   "nbconvert_exporter": "python",
   "pygments_lexer": "ipython3",
   "version": "3.9.2"
  }
 },
 "nbformat": 4,
 "nbformat_minor": 5
}
