{
 "cells": [
  {
   "cell_type": "markdown",
   "metadata": {
    "id": "j6dJnRbWIl0g"
   },
   "source": [
    "Username : hendrimardani\n",
    "Nama Lengkap : Hendri Mardani\n",
    "Umur : 21 Tahun\n",
    "Tempat Bekerja : PT Denso Indonesia\n",
    "Status : Karyawan Swasta\n",
    "Email : hendrimardani290301@gmail.com"
   ]
  },
  {
   "cell_type": "code",
   "execution_count": 2,
   "metadata": {
    "id": "zTY4xJ97IjA0"
   },
   "outputs": [],
   "source": [
    "import os\n",
    "import zipfile\n",
    "import tensorflow as tf\n",
    "import matplotlib.pyplot as plt\n",
    "import numpy as np\n",
    "import matplotlib.image as mpimg\n",
    "from tensorflow.keras import Sequential\n",
    "from tensorflow.keras import layers\n",
    "from tensorflow.keras.layers import Dense\n",
    "from tensorflow.keras.preprocessing.image import ImageDataGenerator\n",
    "from tensorflow.keras.preprocessing import image\n",
    "import seaborn as sns\n",
    "sns.set()"
   ]
  },
  {
   "cell_type": "code",
   "execution_count": 2,
   "metadata": {
    "colab": {
     "base_uri": "https://localhost:8080/"
    },
    "id": "9sLvMFJULYm8",
    "outputId": "4c19b3e9-69d4-4ea2-a5a6-b613c2549443"
   },
   "outputs": [
    {
     "name": "stdout",
     "output_type": "stream",
     "text": [
      "Mounted at /content/drive\n"
     ]
    }
   ],
   "source": [
    "from google.colab import drive\n",
    "drive.mount('/content/drive')"
   ]
  },
  {
   "cell_type": "code",
   "execution_count": 3,
   "metadata": {
    "id": "pDg6sem2VNas"
   },
   "outputs": [],
   "source": [
    "!cp /content/drive/MyDrive/Machine\\ Learning/rockpaperscissors.zip ../tmp/dataset"
   ]
  },
  {
   "cell_type": "code",
   "execution_count": 4,
   "metadata": {
    "colab": {
     "base_uri": "https://localhost:8080/"
    },
    "id": "RA4UuOr-QgMQ",
    "outputId": "bba81ea0-b117-4032-bf1c-6b3ae75cdad6"
   },
   "outputs": [
    {
     "data": {
      "text/plain": [
       "['.config', 'drive', 'sample_data']"
      ]
     },
     "execution_count": 4,
     "metadata": {},
     "output_type": "execute_result"
    }
   ],
   "source": [
    "os.listdir()"
   ]
  },
  {
   "cell_type": "code",
   "execution_count": 5,
   "metadata": {
    "id": "qoRDs4Rsu-MQ"
   },
   "outputs": [],
   "source": [
    "local_zip = '../tmp/dataset/rockpaperscissors.zip'\n",
    "zip_ref = zipfile.ZipFile(local_zip, 'r')\n",
    "zip_ref.extractall('../tmp/dataset')\n",
    "zip_ref.close()\n",
    "     \n",
    "base_dir = '../tmp/dataset/rockpaperscissors/rockpaperscissors'\n",
    "train_dir = os.path.join(base_dir, 'train')\n",
    "validation_dir = os.path.join(base_dir, 'val')"
   ]
  },
  {
   "cell_type": "code",
   "execution_count": 6,
   "metadata": {
    "colab": {
     "base_uri": "https://localhost:8080/"
    },
    "id": "OJUiDyUkvnyw",
    "outputId": "1b5e7479-9230-4e8d-8a1b-3dd21974c3c3"
   },
   "outputs": [
    {
     "name": "stdout",
     "output_type": "stream",
     "text": [
      "Jumlah val =  292\n",
      "Jumlah val =  291\n",
      "Jumlah val =  291\n",
      "Jumlah train =  458\n",
      "Jumlah train =  421\n",
      "Jumlah train =  435\n",
      "Jumlah total train 1314 \n",
      "Jumlah total val 874\n"
     ]
    }
   ],
   "source": [
    "direktori = os.listdir(\"/tmp/dataset/rockpaperscissors/rockpaperscissors\")\n",
    "sub_dir = os.listdir(\"/tmp/dataset/rockpaperscissors/rockpaperscissors/train\")\n",
    "hitung = 0\n",
    "hasil_train = []\n",
    "hasil_val = []\n",
    "direktori.pop(1)\n",
    "\n",
    "for x in range(len(direktori)):\n",
    "  for y in range(len(sub_dir)):\n",
    "      print(f\"Jumlah {direktori[x]} = \", len(os.listdir(f\"/tmp/dataset/rockpaperscissors/rockpaperscissors/{direktori[x]}/{sub_dir[y]}\")))\n",
    "      hitung = len(os.listdir(f\"/tmp/dataset/rockpaperscissors/rockpaperscissors/{direktori[x]}/{sub_dir[y]}\"))\n",
    "\n",
    "      if direktori[x] == \"train\":\n",
    "        hasil_train.append(hitung)\n",
    "      else:\n",
    "        hasil_val.append(hitung)\n",
    "\n",
    "print(\"Jumlah total train\", sum(hasil_train), \"\\nJumlah total val\", sum(hasil_val))"
   ]
  },
  {
   "cell_type": "code",
   "execution_count": 7,
   "metadata": {
    "colab": {
     "base_uri": "https://localhost:8080/"
    },
    "id": "lE7NtgwU1_xs",
    "outputId": "29c92cf6-cc01-4deb-f3f7-d0b4165ec02c"
   },
   "outputs": [
    {
     "name": "stdout",
     "output_type": "stream",
     "text": [
      "Found 1314 images belonging to 3 classes.\n",
      "Found 874 images belonging to 3 classes.\n"
     ]
    }
   ],
   "source": [
    "train_datagen = ImageDataGenerator(\n",
    "                    rescale=1./255,\n",
    "                    rotation_range=0.2,\n",
    "                    zoom_range=0.2,\n",
    "                    horizontal_flip=True,\n",
    "                    shear_range = 0.2,\n",
    "                    fill_mode = 'nearest')\n",
    " \n",
    "test_datagen = ImageDataGenerator(rescale=1./255)\n",
    "\n",
    "train_generator = train_datagen.flow_from_directory(\n",
    "            train_dir,  \n",
    "            target_size=(150, 150),  \n",
    "            batch_size=32,\n",
    "            class_mode='categorical')     \n",
    "validation_generator = test_datagen.flow_from_directory(\n",
    "            validation_dir, \n",
    "            target_size=(150, 150), \n",
    "            batch_size=32,\n",
    "            class_mode='categorical')"
   ]
  },
  {
   "cell_type": "code",
   "execution_count": 8,
   "metadata": {
    "id": "UFBajRAV3Stg"
   },
   "outputs": [],
   "source": [
    "model = Sequential([\n",
    "    layers.Conv2D(32, (3,3), activation='relu', input_shape=(150, 150, 3)),\n",
    "    layers.MaxPooling2D(2, 2),\n",
    "    layers.Flatten(),\n",
    "    layers.Dense(32, activation='relu'),\n",
    "    layers.Dense(16, activation='relu'),\n",
    "    layers.Dropout(0.3),\n",
    "    layers.Dense(3, activation='softmax')\n",
    "])"
   ]
  },
  {
   "cell_type": "code",
   "execution_count": 9,
   "metadata": {
    "id": "N37-HhuQ37s8"
   },
   "outputs": [],
   "source": [
    "model.compile(loss='categorical_crossentropy',\n",
    "              optimizer=tf.optimizers.Adam(),\n",
    "              metrics=['accuracy'])"
   ]
  },
  {
   "cell_type": "code",
   "execution_count": 10,
   "metadata": {
    "id": "wNJ7s9TXPSjU"
   },
   "outputs": [],
   "source": [
    "class myCallback(tf.keras.callbacks.Callback):\n",
    "    def on_epoch_end(self, epoch, logs={}):\n",
    "        if(logs.get('accuracy')>0.97):\n",
    "            print(\"\\nAkurasi telah mencapai > 97%!\")\n",
    "            self.model.stop_training = True\n",
    "callbacks = myCallback()"
   ]
  },
  {
   "cell_type": "code",
   "execution_count": 11,
   "metadata": {
    "colab": {
     "base_uri": "https://localhost:8080/"
    },
    "id": "GkNZ4E2s4CGU",
    "outputId": "e9716214-b87b-435d-8838-a5934ad98dcf"
   },
   "outputs": [
    {
     "name": "stdout",
     "output_type": "stream",
     "text": [
      "Epoch 1/100\n",
      "42/42 - 22s - loss: 1.3086 - accuracy: 0.3493 - val_loss: 1.0918 - val_accuracy: 0.3352 - 22s/epoch - 536ms/step\n",
      "Epoch 2/100\n",
      "42/42 - 11s - loss: 1.0700 - accuracy: 0.4292 - val_loss: 1.0222 - val_accuracy: 0.4416 - 11s/epoch - 257ms/step\n",
      "Epoch 3/100\n",
      "42/42 - 11s - loss: 0.9754 - accuracy: 0.5320 - val_loss: 0.7819 - val_accuracy: 0.7586 - 11s/epoch - 253ms/step\n",
      "Epoch 4/100\n",
      "42/42 - 11s - loss: 0.8364 - accuracy: 0.6225 - val_loss: 0.6329 - val_accuracy: 0.7666 - 11s/epoch - 251ms/step\n",
      "Epoch 5/100\n",
      "42/42 - 11s - loss: 0.7584 - accuracy: 0.6811 - val_loss: 0.5304 - val_accuracy: 0.8055 - 11s/epoch - 260ms/step\n",
      "Epoch 6/100\n",
      "42/42 - 11s - loss: 0.7218 - accuracy: 0.6720 - val_loss: 0.6161 - val_accuracy: 0.7117 - 11s/epoch - 251ms/step\n",
      "Epoch 7/100\n",
      "42/42 - 11s - loss: 0.6677 - accuracy: 0.6994 - val_loss: 0.5098 - val_accuracy: 0.8089 - 11s/epoch - 252ms/step\n",
      "Epoch 8/100\n",
      "42/42 - 12s - loss: 0.6372 - accuracy: 0.7253 - val_loss: 0.4598 - val_accuracy: 0.8215 - 12s/epoch - 292ms/step\n",
      "Epoch 9/100\n",
      "42/42 - 11s - loss: 0.5630 - accuracy: 0.7656 - val_loss: 0.4381 - val_accuracy: 0.8444 - 11s/epoch - 251ms/step\n",
      "Epoch 10/100\n",
      "42/42 - 10s - loss: 0.7109 - accuracy: 0.7100 - val_loss: 0.6843 - val_accuracy: 0.7677 - 10s/epoch - 250ms/step\n",
      "Epoch 11/100\n",
      "42/42 - 11s - loss: 0.6692 - accuracy: 0.7192 - val_loss: 0.4178 - val_accuracy: 0.8387 - 11s/epoch - 257ms/step\n",
      "Epoch 12/100\n",
      "42/42 - 11s - loss: 0.5203 - accuracy: 0.7930 - val_loss: 0.3950 - val_accuracy: 0.8650 - 11s/epoch - 255ms/step\n",
      "Epoch 13/100\n",
      "42/42 - 11s - loss: 0.5122 - accuracy: 0.8014 - val_loss: 0.4301 - val_accuracy: 0.8455 - 11s/epoch - 254ms/step\n",
      "Epoch 14/100\n",
      "42/42 - 11s - loss: 0.4944 - accuracy: 0.8128 - val_loss: 0.3349 - val_accuracy: 0.8822 - 11s/epoch - 256ms/step\n",
      "Epoch 15/100\n",
      "42/42 - 10s - loss: 0.5089 - accuracy: 0.8097 - val_loss: 0.3409 - val_accuracy: 0.8822 - 10s/epoch - 249ms/step\n",
      "Epoch 16/100\n",
      "42/42 - 11s - loss: 0.4435 - accuracy: 0.8402 - val_loss: 0.3146 - val_accuracy: 0.8833 - 11s/epoch - 254ms/step\n",
      "Epoch 17/100\n",
      "42/42 - 11s - loss: 0.4696 - accuracy: 0.8364 - val_loss: 0.4015 - val_accuracy: 0.8352 - 11s/epoch - 250ms/step\n",
      "Epoch 18/100\n",
      "42/42 - 11s - loss: 0.4534 - accuracy: 0.8349 - val_loss: 0.3095 - val_accuracy: 0.8741 - 11s/epoch - 255ms/step\n",
      "Epoch 19/100\n",
      "42/42 - 11s - loss: 0.4294 - accuracy: 0.8440 - val_loss: 0.3483 - val_accuracy: 0.8558 - 11s/epoch - 254ms/step\n",
      "Epoch 20/100\n",
      "42/42 - 11s - loss: 0.4547 - accuracy: 0.8311 - val_loss: 0.3698 - val_accuracy: 0.8604 - 11s/epoch - 250ms/step\n",
      "Epoch 21/100\n",
      "42/42 - 11s - loss: 0.4199 - accuracy: 0.8569 - val_loss: 0.2795 - val_accuracy: 0.8867 - 11s/epoch - 254ms/step\n",
      "Epoch 22/100\n",
      "42/42 - 11s - loss: 0.3881 - accuracy: 0.8721 - val_loss: 0.2783 - val_accuracy: 0.8879 - 11s/epoch - 252ms/step\n",
      "Epoch 23/100\n",
      "42/42 - 11s - loss: 0.3729 - accuracy: 0.8683 - val_loss: 0.2744 - val_accuracy: 0.8902 - 11s/epoch - 251ms/step\n",
      "Epoch 24/100\n",
      "42/42 - 11s - loss: 0.3743 - accuracy: 0.8645 - val_loss: 0.2836 - val_accuracy: 0.8982 - 11s/epoch - 258ms/step\n",
      "Epoch 25/100\n",
      "42/42 - 12s - loss: 0.3519 - accuracy: 0.8782 - val_loss: 0.3196 - val_accuracy: 0.8810 - 12s/epoch - 288ms/step\n",
      "Epoch 26/100\n",
      "42/42 - 11s - loss: 0.4171 - accuracy: 0.8653 - val_loss: 0.3134 - val_accuracy: 0.8719 - 11s/epoch - 257ms/step\n",
      "Epoch 27/100\n",
      "42/42 - 11s - loss: 0.3791 - accuracy: 0.8653 - val_loss: 0.2764 - val_accuracy: 0.8936 - 11s/epoch - 252ms/step\n",
      "Epoch 28/100\n",
      "42/42 - 11s - loss: 0.3413 - accuracy: 0.8836 - val_loss: 0.2427 - val_accuracy: 0.8970 - 11s/epoch - 252ms/step\n",
      "Epoch 29/100\n",
      "42/42 - 11s - loss: 0.3165 - accuracy: 0.8874 - val_loss: 0.2485 - val_accuracy: 0.8993 - 11s/epoch - 257ms/step\n",
      "Epoch 30/100\n",
      "42/42 - 11s - loss: 0.3007 - accuracy: 0.9064 - val_loss: 0.2337 - val_accuracy: 0.8982 - 11s/epoch - 252ms/step\n",
      "Epoch 31/100\n",
      "42/42 - 10s - loss: 0.3305 - accuracy: 0.8820 - val_loss: 0.2316 - val_accuracy: 0.9050 - 10s/epoch - 249ms/step\n",
      "Epoch 32/100\n",
      "42/42 - 11s - loss: 0.2924 - accuracy: 0.8988 - val_loss: 0.2307 - val_accuracy: 0.9108 - 11s/epoch - 257ms/step\n",
      "Epoch 33/100\n",
      "42/42 - 12s - loss: 0.3371 - accuracy: 0.8836 - val_loss: 0.2638 - val_accuracy: 0.8890 - 12s/epoch - 285ms/step\n",
      "Epoch 34/100\n",
      "42/42 - 10s - loss: 0.2904 - accuracy: 0.8973 - val_loss: 0.2093 - val_accuracy: 0.9073 - 10s/epoch - 249ms/step\n",
      "Epoch 35/100\n",
      "42/42 - 11s - loss: 0.2769 - accuracy: 0.9094 - val_loss: 0.2472 - val_accuracy: 0.9039 - 11s/epoch - 256ms/step\n",
      "Epoch 36/100\n",
      "42/42 - 10s - loss: 0.2711 - accuracy: 0.8935 - val_loss: 0.2117 - val_accuracy: 0.9062 - 10s/epoch - 250ms/step\n",
      "Epoch 37/100\n",
      "42/42 - 11s - loss: 0.2553 - accuracy: 0.9087 - val_loss: 0.2360 - val_accuracy: 0.8947 - 11s/epoch - 251ms/step\n",
      "Epoch 38/100\n",
      "42/42 - 11s - loss: 0.2777 - accuracy: 0.9087 - val_loss: 0.2227 - val_accuracy: 0.9085 - 11s/epoch - 262ms/step\n",
      "Epoch 39/100\n",
      "42/42 - 11s - loss: 0.3022 - accuracy: 0.8904 - val_loss: 0.2428 - val_accuracy: 0.9027 - 11s/epoch - 252ms/step\n",
      "Epoch 40/100\n",
      "42/42 - 11s - loss: 0.2489 - accuracy: 0.9186 - val_loss: 0.2163 - val_accuracy: 0.9176 - 11s/epoch - 252ms/step\n",
      "Epoch 41/100\n",
      "42/42 - 11s - loss: 0.2322 - accuracy: 0.9163 - val_loss: 0.2023 - val_accuracy: 0.9165 - 11s/epoch - 255ms/step\n",
      "Epoch 42/100\n",
      "42/42 - 12s - loss: 0.2240 - accuracy: 0.9285 - val_loss: 0.1911 - val_accuracy: 0.9165 - 12s/epoch - 285ms/step\n",
      "Epoch 43/100\n",
      "42/42 - 11s - loss: 0.2678 - accuracy: 0.9110 - val_loss: 0.2979 - val_accuracy: 0.8719 - 11s/epoch - 253ms/step\n",
      "Epoch 44/100\n",
      "42/42 - 11s - loss: 0.3504 - accuracy: 0.8706 - val_loss: 0.2606 - val_accuracy: 0.9027 - 11s/epoch - 252ms/step\n",
      "Epoch 45/100\n",
      "42/42 - 11s - loss: 0.2596 - accuracy: 0.9064 - val_loss: 0.1773 - val_accuracy: 0.9256 - 11s/epoch - 250ms/step\n",
      "Epoch 46/100\n",
      "42/42 - 11s - loss: 0.2286 - accuracy: 0.9209 - val_loss: 0.1856 - val_accuracy: 0.9268 - 11s/epoch - 255ms/step\n",
      "Epoch 47/100\n",
      "42/42 - 10s - loss: 0.2169 - accuracy: 0.9201 - val_loss: 0.1813 - val_accuracy: 0.9268 - 10s/epoch - 250ms/step\n",
      "Epoch 48/100\n",
      "42/42 - 10s - loss: 0.2203 - accuracy: 0.9247 - val_loss: 0.2102 - val_accuracy: 0.9153 - 10s/epoch - 248ms/step\n",
      "Epoch 49/100\n",
      "42/42 - 11s - loss: 0.1878 - accuracy: 0.9338 - val_loss: 0.2054 - val_accuracy: 0.9130 - 11s/epoch - 255ms/step\n",
      "Epoch 50/100\n",
      "42/42 - 10s - loss: 0.1837 - accuracy: 0.9422 - val_loss: 0.1715 - val_accuracy: 0.9325 - 10s/epoch - 249ms/step\n",
      "Epoch 51/100\n",
      "42/42 - 12s - loss: 0.2050 - accuracy: 0.9285 - val_loss: 0.1677 - val_accuracy: 0.9371 - 12s/epoch - 284ms/step\n",
      "Epoch 52/100\n",
      "42/42 - 11s - loss: 0.1742 - accuracy: 0.9384 - val_loss: 0.1584 - val_accuracy: 0.9325 - 11s/epoch - 255ms/step\n",
      "Epoch 53/100\n",
      "42/42 - 11s - loss: 0.1928 - accuracy: 0.9307 - val_loss: 0.1905 - val_accuracy: 0.9062 - 11s/epoch - 252ms/step\n",
      "Epoch 54/100\n",
      "42/42 - 10s - loss: 0.2156 - accuracy: 0.9224 - val_loss: 0.1886 - val_accuracy: 0.9176 - 10s/epoch - 250ms/step\n",
      "Epoch 55/100\n",
      "42/42 - 11s - loss: 0.1913 - accuracy: 0.9406 - val_loss: 0.1951 - val_accuracy: 0.9176 - 11s/epoch - 256ms/step\n",
      "Epoch 56/100\n",
      "42/42 - 10s - loss: 0.1913 - accuracy: 0.9330 - val_loss: 0.2249 - val_accuracy: 0.9256 - 10s/epoch - 249ms/step\n",
      "Epoch 57/100\n",
      "42/42 - 10s - loss: 0.1825 - accuracy: 0.9452 - val_loss: 0.1462 - val_accuracy: 0.9336 - 10s/epoch - 249ms/step\n",
      "Epoch 58/100\n",
      "42/42 - 11s - loss: 0.1715 - accuracy: 0.9376 - val_loss: 0.1697 - val_accuracy: 0.9279 - 11s/epoch - 254ms/step\n",
      "Epoch 59/100\n",
      "42/42 - 10s - loss: 0.1844 - accuracy: 0.9429 - val_loss: 0.1382 - val_accuracy: 0.9462 - 10s/epoch - 248ms/step\n",
      "Epoch 60/100\n",
      "42/42 - 12s - loss: 0.1705 - accuracy: 0.9422 - val_loss: 0.1538 - val_accuracy: 0.9371 - 12s/epoch - 286ms/step\n",
      "Epoch 61/100\n",
      "42/42 - 11s - loss: 0.2046 - accuracy: 0.9323 - val_loss: 0.1520 - val_accuracy: 0.9371 - 11s/epoch - 255ms/step\n",
      "Epoch 62/100\n",
      "42/42 - 10s - loss: 0.1463 - accuracy: 0.9513 - val_loss: 0.1729 - val_accuracy: 0.9291 - 10s/epoch - 249ms/step\n",
      "Epoch 63/100\n",
      "42/42 - 11s - loss: 0.1990 - accuracy: 0.9300 - val_loss: 0.1629 - val_accuracy: 0.9233 - 11s/epoch - 254ms/step\n",
      "Epoch 64/100\n",
      "42/42 - 11s - loss: 0.1528 - accuracy: 0.9422 - val_loss: 0.1547 - val_accuracy: 0.9371 - 11s/epoch - 252ms/step\n",
      "Epoch 65/100\n",
      "42/42 - 10s - loss: 0.1509 - accuracy: 0.9528 - val_loss: 0.2067 - val_accuracy: 0.9336 - 10s/epoch - 249ms/step\n",
      "Epoch 66/100\n",
      "42/42 - 11s - loss: 0.1468 - accuracy: 0.9490 - val_loss: 0.2183 - val_accuracy: 0.9119 - 11s/epoch - 254ms/step\n",
      "Epoch 67/100\n",
      "42/42 - 11s - loss: 0.1562 - accuracy: 0.9414 - val_loss: 0.1673 - val_accuracy: 0.9439 - 11s/epoch - 251ms/step\n",
      "Epoch 68/100\n",
      "42/42 - 12s - loss: 0.1328 - accuracy: 0.9536 - val_loss: 0.2047 - val_accuracy: 0.9359 - 12s/epoch - 288ms/step\n",
      "Epoch 69/100\n",
      "42/42 - 11s - loss: 0.1253 - accuracy: 0.9612 - val_loss: 0.1555 - val_accuracy: 0.9462 - 11s/epoch - 250ms/step\n",
      "Epoch 70/100\n",
      "42/42 - 10s - loss: 0.1657 - accuracy: 0.9414 - val_loss: 0.2101 - val_accuracy: 0.9359 - 10s/epoch - 249ms/step\n",
      "Epoch 71/100\n",
      "42/42 - 11s - loss: 0.1449 - accuracy: 0.9467 - val_loss: 0.1924 - val_accuracy: 0.9371 - 11s/epoch - 254ms/step\n",
      "Epoch 72/100\n",
      "42/42 - 10s - loss: 0.1478 - accuracy: 0.9414 - val_loss: 0.1830 - val_accuracy: 0.9314 - 10s/epoch - 249ms/step\n",
      "Epoch 73/100\n",
      "42/42 - 10s - loss: 0.1147 - accuracy: 0.9551 - val_loss: 0.1446 - val_accuracy: 0.9428 - 10s/epoch - 249ms/step\n",
      "Epoch 74/100\n",
      "42/42 - 11s - loss: 0.1031 - accuracy: 0.9635 - val_loss: 0.1639 - val_accuracy: 0.9439 - 11s/epoch - 254ms/step\n",
      "Epoch 75/100\n",
      "42/42 - 11s - loss: 0.1412 - accuracy: 0.9505 - val_loss: 0.1512 - val_accuracy: 0.9382 - 11s/epoch - 251ms/step\n",
      "Epoch 76/100\n",
      "42/42 - 11s - loss: 0.1370 - accuracy: 0.9498 - val_loss: 0.1644 - val_accuracy: 0.9531 - 11s/epoch - 253ms/step\n",
      "Epoch 77/100\n",
      "42/42 - 12s - loss: 0.1320 - accuracy: 0.9574 - val_loss: 0.1565 - val_accuracy: 0.9451 - 12s/epoch - 286ms/step\n",
      "Epoch 78/100\n",
      "42/42 - 10s - loss: 0.1135 - accuracy: 0.9673 - val_loss: 0.1889 - val_accuracy: 0.9519 - 10s/epoch - 249ms/step\n",
      "Epoch 79/100\n",
      "42/42 - 10s - loss: 0.1093 - accuracy: 0.9642 - val_loss: 0.2635 - val_accuracy: 0.9108 - 10s/epoch - 249ms/step\n",
      "Epoch 80/100\n",
      "42/42 - 11s - loss: 0.1172 - accuracy: 0.9604 - val_loss: 0.1378 - val_accuracy: 0.9497 - 11s/epoch - 255ms/step\n",
      "Epoch 81/100\n",
      "42/42 - 10s - loss: 0.1265 - accuracy: 0.9551 - val_loss: 0.1936 - val_accuracy: 0.9394 - 10s/epoch - 248ms/step\n",
      "Epoch 82/100\n",
      "42/42 - 11s - loss: 0.1114 - accuracy: 0.9619 - val_loss: 0.1931 - val_accuracy: 0.9485 - 11s/epoch - 252ms/step\n",
      "Epoch 83/100\n",
      "42/42 - 11s - loss: 0.1090 - accuracy: 0.9604 - val_loss: 0.1541 - val_accuracy: 0.9508 - 11s/epoch - 255ms/step\n",
      "Epoch 84/100\n",
      "42/42 - 11s - loss: 0.1124 - accuracy: 0.9597 - val_loss: 0.1545 - val_accuracy: 0.9474 - 11s/epoch - 250ms/step\n",
      "Epoch 85/100\n",
      "42/42 - 11s - loss: 0.1056 - accuracy: 0.9589 - val_loss: 0.1847 - val_accuracy: 0.9565 - 11s/epoch - 252ms/step\n",
      "Epoch 86/100\n",
      "\n",
      "Akurasi telah mencapai > 97%!\n",
      "42/42 - 11s - loss: 0.0880 - accuracy: 0.9718 - val_loss: 0.1403 - val_accuracy: 0.9622 - 11s/epoch - 266ms/step\n"
     ]
    }
   ],
   "source": [
    "history = model.fit(\n",
    "      train_generator,      \n",
    "      validation_data=validation_generator,\n",
    "      batch_size=350,\n",
    "      epochs=100,\n",
    "      callbacks=[callbacks],\n",
    "      verbose=2)"
   ]
  },
  {
   "cell_type": "code",
   "execution_count": 12,
   "metadata": {
    "colab": {
     "base_uri": "https://localhost:8080/",
     "height": 593
    },
    "id": "1tlcNprr5mw0",
    "outputId": "56c4c8e5-3cd7-4bc4-c4c2-7a317802b86f"
   },
   "outputs": [
    {
     "data": {
      "image/png": "[encoded data removed]",
      "text/plain": [
       "<Figure size 864x576 with 4 Axes>"
      ]
     },
     "metadata": {},
     "output_type": "display_data"
    }
   ],
   "source": [
    "fig, ((ax1,ax2), (ax3,ax4)) = plt.subplots(2,2, figsize=(12,8))\n",
    "ax1.plot(history.history[\"accuracy\"])\n",
    "ax1.set_title(\"Akurasi\")\n",
    "ax1.set_ylabel(\"Akurasi\")\n",
    "ax1.set_xlabel(\"Epoch\")\n",
    "\n",
    "ax2.plot(history.history[\"val_accuracy\"])\n",
    "ax2.set_title(\"Val_Akurasi\")\n",
    "ax2.set_ylabel(\"Val_Akurasi\")\n",
    "ax2.set_xlabel(\"Epoch\")\n",
    "\n",
    "ax3.plot(history.history[\"loss\"])\n",
    "ax3.set_title(\"Loss\")\n",
    "ax3.set_ylabel(\"Loss\")\n",
    "ax3.set_xlabel(\"Epoch\")\n",
    "\n",
    "ax4.plot(history.history[\"val_loss\"])\n",
    "ax4.set_title(\"Val_Loss\")\n",
    "ax4.set_ylabel(\"Val_Loss\")\n",
    "ax4.set_xlabel(\"Epoch\")\n",
    "\n",
    "fig.tight_layout(pad=0.6) # Mengatur title antar baris"
   ]
  },
  {
   "cell_type": "code",
   "execution_count": 4,
   "metadata": {
    "colab": {
     "base_uri": "https://localhost:8080/",
     "height": 382,
     "resources": {
      "http://localhost:8080/nbextensions/google.colab/files.js": {
       "data": "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",
       "headers": [
        [
         "content-type",
         "application/javascript"
        ]
       ],
       "ok": true,
       "status": 200,
       "status_text": "OK"
      }
     }
    },
    "id": "dvogJV0650aQ",
    "outputId": "747221ef-28f6-4f48-dec5-b450c4c7b392"
   },
   "outputs": [
    {
     "ename": "NameError",
     "evalue": "name 'files' is not defined",
     "output_type": "error",
     "traceback": [
      "\u001b[0;31m---------------------------------------------------------------------------\u001b[0m",
      "\u001b[0;31mNameError\u001b[0m                                 Traceback (most recent call last)",
      "Input \u001b[0;32mIn [4]\u001b[0m, in \u001b[0;36m<cell line: 1>\u001b[0;34m()\u001b[0m\n\u001b[0;32m----> 1\u001b[0m uploaded \u001b[38;5;241m=\u001b[39m \u001b[43mfiles\u001b[49m\u001b[38;5;241m.\u001b[39mupload()\n\u001b[1;32m      3\u001b[0m \u001b[38;5;28;01mfor\u001b[39;00m fn \u001b[38;5;129;01min\u001b[39;00m uploaded\u001b[38;5;241m.\u001b[39mkeys():\n\u001b[1;32m      5\u001b[0m   path \u001b[38;5;241m=\u001b[39m fn\n",
      "\u001b[0;31mNameError\u001b[0m: name 'files' is not defined"
     ]
    }
   ],
   "source": [
    "uploaded = files.upload()\n",
    "\n",
    "for fn in uploaded.keys():\n",
    "\n",
    "  path = fn\n",
    "  img = image.load_img(path, target_size=(150,150))\n",
    "  imgplot = plt.imshow(img)\n",
    "  x = image.img_to_array(img)\n",
    "  x = np.expand_dims(x, axis=0)\n",
    "  images = np.vstack([x]) \n",
    "  klas = model.predict(images)\n",
    "  klas = np.argmax(klas)\n",
    "  print(fn)\n",
    "  if klas == 0:\n",
    "    print('Kertas')\n",
    "  elif klas == 1:\n",
    "    print('Batu')\n",
    "  else:\n",
    "    print(\"Gunting\")\n",
    "klas"
   ]
  },
  {
   "cell_type": "code",
   "execution_count": null,
   "metadata": {
    "id": "78kifh2h2KXI"
   },
   "outputs": [],
   "source": []
  }
 ],
 "metadata": {
  "accelerator": "GPU",
  "colab": {
   "collapsed_sections": [],
   "name": "latihan_1",
   "provenance": []
  },
  "gpuClass": "standard",
  "kernelspec": {
   "display_name": "Python 3 (ipykernel)",
   "language": "python",
   "name": "python3"
  },
  "language_info": {
   "codemirror_mode": {
    "name": "ipython",
    "version": 3
   },
   "file_extension": ".py",
   "mimetype": "text/x-python",
   "name": "python",
   "nbconvert_exporter": "python",
   "pygments_lexer": "ipython3",
   "version": "3.9.2"
  }
 },
 "nbformat": 4,
 "nbformat_minor": 1
}
