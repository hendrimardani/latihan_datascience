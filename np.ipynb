{
 "cells": [
  {
   "cell_type": "code",
   "execution_count": 1,
   "id": "28f183dd",
   "metadata": {},
   "outputs": [],
   "source": [
    "import numpy as np"
   ]
  },
  {
   "cell_type": "code",
   "execution_count": 2,
   "id": "80977e83",
   "metadata": {},
   "outputs": [
    {
     "data": {
      "text/plain": [
       "array([[ 0,  1,  2,  3,  4],\n",
       "       [ 5,  6,  7,  8,  9],\n",
       "       [10, 11, 12, 13, 14],\n",
       "       [15, 16, 17, 18, 19]])"
      ]
     },
     "execution_count": 2,
     "metadata": {},
     "output_type": "execute_result"
    }
   ],
   "source": [
    "hitung = np.arange(20).reshape(4, 5)\n",
    "hitung"
   ]
  },
  {
   "cell_type": "code",
   "execution_count": 3,
   "id": "fb7b0628",
   "metadata": {},
   "outputs": [],
   "source": [
    "a = np.linspace(2.0, 3.0, num=20).reshape(4, 5)"
   ]
  },
  {
   "cell_type": "code",
   "execution_count": 4,
   "id": "15394516",
   "metadata": {},
   "outputs": [
    {
     "data": {
      "text/plain": [
       "array([[2.        , 2.05263158, 2.10526316, 2.15789474, 2.21052632],\n",
       "       [2.26315789, 2.31578947, 2.36842105, 2.42105263, 2.47368421],\n",
       "       [2.52631579, 2.57894737, 2.63157895, 2.68421053, 2.73684211],\n",
       "       [2.78947368, 2.84210526, 2.89473684, 2.94736842, 3.        ]])"
      ]
     },
     "execution_count": 4,
     "metadata": {},
     "output_type": "execute_result"
    }
   ],
   "source": [
    "a"
   ]
  },
  {
   "cell_type": "code",
   "execution_count": 5,
   "id": "2a339f93",
   "metadata": {},
   "outputs": [
    {
     "data": {
      "text/plain": [
       "array([15, 16, 17, 18, 19])"
      ]
     },
     "execution_count": 5,
     "metadata": {},
     "output_type": "execute_result"
    }
   ],
   "source": [
    "hitung[3, :]"
   ]
  },
  {
   "cell_type": "markdown",
   "id": "3c04c080",
   "metadata": {},
   "source": [
    "# Numpy 3D"
   ]
  },
  {
   "cell_type": "code",
   "execution_count": 6,
   "id": "8d4ace8b",
   "metadata": {},
   "outputs": [
    {
     "data": {
      "text/plain": [
       "array([[[ 3,  1, 12],\n",
       "        [19, 11, 11]],\n",
       "\n",
       "       [[21, 59, 13],\n",
       "        [ 1,  5,  0]],\n",
       "\n",
       "       [[41,  6, 19],\n",
       "        [15, 21, 19]]])"
      ]
     },
     "execution_count": 6,
     "metadata": {},
     "output_type": "execute_result"
    }
   ],
   "source": [
    "arr = np.array([[[3, 1, 12], [19, 11, 11]], [[21, 59, 13], [1, 5, 0]], [[41, 6, 19], [15, 21, 19]]])\n",
    "arr"
   ]
  },
  {
   "cell_type": "code",
   "execution_count": 7,
   "id": "a2e1bc6a",
   "metadata": {},
   "outputs": [
    {
     "data": {
      "text/plain": [
       "(3, 2, 3)"
      ]
     },
     "execution_count": 7,
     "metadata": {},
     "output_type": "execute_result"
    }
   ],
   "source": [
    "arr.shape"
   ]
  },
  {
   "cell_type": "code",
   "execution_count": 8,
   "id": "f7931d52",
   "metadata": {},
   "outputs": [
    {
     "data": {
      "text/plain": [
       "array([19,  1, 15])"
      ]
     },
     "execution_count": 8,
     "metadata": {},
     "output_type": "execute_result"
    }
   ],
   "source": [
    "arr[:, 1, 0]"
   ]
  },
  {
   "cell_type": "code",
   "execution_count": 9,
   "id": "8784b5d8",
   "metadata": {},
   "outputs": [
    {
     "data": {
      "text/plain": [
       "array([[1, 0, 0, 0, 0, 0, 0, 0, 0],\n",
       "       [0, 1, 0, 0, 0, 0, 0, 0, 0],\n",
       "       [0, 0, 1, 0, 0, 0, 0, 0, 0],\n",
       "       [0, 0, 0, 1, 0, 0, 0, 0, 0],\n",
       "       [0, 0, 0, 0, 1, 0, 0, 0, 0],\n",
       "       [0, 0, 0, 0, 0, 1, 0, 0, 0],\n",
       "       [0, 0, 0, 0, 0, 0, 1, 0, 0],\n",
       "       [0, 0, 0, 0, 0, 0, 0, 1, 0],\n",
       "       [0, 0, 0, 0, 0, 0, 0, 0, 1]], dtype=int32)"
      ]
     },
     "execution_count": 9,
     "metadata": {},
     "output_type": "execute_result"
    }
   ],
   "source": [
    "iden = np.identity(9, dtype=\"int32\")\n",
    "iden"
   ]
  },
  {
   "cell_type": "code",
   "execution_count": 10,
   "id": "11f9b832",
   "metadata": {},
   "outputs": [
    {
     "data": {
      "text/plain": [
       "array([[1],\n",
       "       [1],\n",
       "       [1],\n",
       "       [2],\n",
       "       [2],\n",
       "       [2],\n",
       "       [3],\n",
       "       [3],\n",
       "       [3]])"
      ]
     },
     "execution_count": 10,
     "metadata": {},
     "output_type": "execute_result"
    }
   ],
   "source": [
    "arr = np.array([[1, 2, 3]])\n",
    "np.repeat(arr, 3).reshape(-1, 1)"
   ]
  },
  {
   "cell_type": "code",
   "execution_count": 11,
   "id": "a565732b",
   "metadata": {},
   "outputs": [
    {
     "data": {
      "text/plain": [
       "array([[1, 2, 3],\n",
       "       [1, 2, 3],\n",
       "       [1, 2, 3]])"
      ]
     },
     "execution_count": 11,
     "metadata": {},
     "output_type": "execute_result"
    }
   ],
   "source": [
    "np.repeat(arr, 3, axis=0)"
   ]
  },
  {
   "cell_type": "code",
   "execution_count": 12,
   "id": "453884ae",
   "metadata": {},
   "outputs": [
    {
     "data": {
      "text/plain": [
       "array([[  1,   1,   1],\n",
       "       [  1, 100,   1],\n",
       "       [  1,   1,   1]], dtype=int32)"
      ]
     },
     "execution_count": 12,
     "metadata": {},
     "output_type": "execute_result"
    }
   ],
   "source": [
    "kosong = np.ones((3,3), dtype=\"int32\")\n",
    "kosong[1, 1] = 100\n",
    "kosong"
   ]
  },
  {
   "cell_type": "code",
   "execution_count": 13,
   "id": "c3db4b5b",
   "metadata": {},
   "outputs": [
    {
     "name": "stdout",
     "output_type": "stream",
     "text": [
      "[[1 0 0 0 0 0 0 0 0]\n",
      " [0 1 0 0 0 0 0 0 0]\n",
      " [0 0 1 0 0 0 0 0 0]\n",
      " [0 0 0 1 0 0 0 0 0]\n",
      " [0 0 0 0 1 0 0 0 0]\n",
      " [0 0 0 0 0 1 0 0 0]\n",
      " [0 0 0 0 0 0 1 0 0]\n",
      " [0 0 0 0 0 0 0 1 0]\n",
      " [0 0 0 0 0 0 0 0 1]]\n",
      "\n",
      "[[  1   0   0   0   0   0   0   0   0]\n",
      " [  0   1   0   0   0   0   0   0   0]\n",
      " [  0   0   1   0   0   0   0   0   0]\n",
      " [  0   0   0   1   0   0   0   0   0]\n",
      " [  0   0   0   0   1   0   0   0   0]\n",
      " [  0   0   0   0   0   1   0   0   0]\n",
      " [  0   1   1   1   0   0   1   0   0]\n",
      " [  0   1 100   1   0   0   0   1   0]\n",
      " [  0   1   1   1   0   0   0   0   1]]\n",
      "\n",
      "[[9 9 9]\n",
      " [9 9 9]\n",
      " [9 9 9]]\n",
      "\n"
     ]
    },
    {
     "data": {
      "text/plain": [
       "array([[  1,   0,   0,   0,   0,   9,   9,   9,   0],\n",
       "       [  0,   1,   0,   0,   0,   9,   9,   9,   0],\n",
       "       [  0,   0,   1,   0,   0,   9,   9,   9,   0],\n",
       "       [  0,   0,   0,   1,   0,   0,   0,   0,   0],\n",
       "       [  0,   0,   0,   0,   1,   0,   0,   0,   0],\n",
       "       [  0,   0,   0,   0,   0,   1,   0,   0,   0],\n",
       "       [  0,   1,   1,   1,   0,   0,   1,   0,   0],\n",
       "       [  0,   1, 100,   1,   0,   0,   0,   1,   0],\n",
       "       [  0,   1,   1,   1,   0,   0,   0,   0,   1]], dtype=int32)"
      ]
     },
     "execution_count": 13,
     "metadata": {},
     "output_type": "execute_result"
    }
   ],
   "source": [
    "def sps():\n",
    "    print()\n",
    "\n",
    "print(iden)\n",
    "print(\"\")\n",
    "iden[6:, 1:-5] = kosong\n",
    "print(iden)\n",
    "sps()\n",
    "b = np.full((3, 3), 9)\n",
    "print(b)\n",
    "sps()\n",
    "iden[0:3, 5:-1] = b\n",
    "iden"
   ]
  },
  {
   "cell_type": "code",
   "execution_count": 14,
   "id": "a067b9fa",
   "metadata": {},
   "outputs": [
    {
     "name": "stdout",
     "output_type": "stream",
     "text": [
      "[[  1   1   1]\n",
      " [  1 100   1]\n",
      " [  1   1   1]]\n",
      "Memiliki dimensi (3, 3)\n",
      "[[9 9 9]\n",
      " [9 9 9]\n",
      " [9 9 9]]\n",
      "Memiliki dimensi (3, 3)\n"
     ]
    },
    {
     "data": {
      "text/plain": [
       "array([[ 27,  27,  27],\n",
       "       [918, 918, 918],\n",
       "       [ 27,  27,  27]])"
      ]
     },
     "execution_count": 14,
     "metadata": {},
     "output_type": "execute_result"
    }
   ],
   "source": [
    "print(kosong)\n",
    "print(\"Memiliki dimensi\", kosong.shape)\n",
    "print(b)\n",
    "print(\"Memiliki dimensi\", b.shape)\n",
    "np.matmul(kosong, b)"
   ]
  },
  {
   "cell_type": "code",
   "execution_count": 15,
   "id": "12718e28",
   "metadata": {},
   "outputs": [
    {
     "data": {
      "text/plain": [
       "array([[ 1, -2,  2],\n",
       "       [ 4, -1,  0],\n",
       "       [ 0, -3,  5]])"
      ]
     },
     "execution_count": 15,
     "metadata": {},
     "output_type": "execute_result"
    }
   ],
   "source": [
    "stats = np.array([[1, -2, 2], [4, -1, 0], [0, -3, 5]])\n",
    "stats"
   ]
  },
  {
   "cell_type": "code",
   "execution_count": 16,
   "id": "721d2d61",
   "metadata": {},
   "outputs": [
    {
     "name": "stdout",
     "output_type": "stream",
     "text": [
      "[ 0 -3  0]\n",
      "[-2 -1 -3]\n",
      "\n",
      "[ 4 -1  5]\n",
      "[ 4 -1  5]\n"
     ]
    }
   ],
   "source": [
    "print(np.min(stats, axis=0))\n",
    "print(np.min(stats, axis=1))\n",
    "sps()\n",
    "print(np.max(stats, axis=0))\n",
    "print(np.max(stats, axis=0))"
   ]
  },
  {
   "cell_type": "code",
   "execution_count": 17,
   "id": "4863d0d5",
   "metadata": {},
   "outputs": [
    {
     "data": {
      "text/plain": [
       "array([[ 1,  2,  3,  4],\n",
       "       [10, 22,  0, 44]])"
      ]
     },
     "execution_count": 17,
     "metadata": {},
     "output_type": "execute_result"
    }
   ],
   "source": [
    "a = np.array([1, 2, 3, 4])\n",
    "b = np.array([10, 22, 0, 44])\n",
    "hasil = np.vstack([a, b])\n",
    "hasil"
   ]
  },
  {
   "cell_type": "code",
   "execution_count": 18,
   "id": "92b274a2",
   "metadata": {},
   "outputs": [
    {
     "name": "stdout",
     "output_type": "stream",
     "text": [
      "[[1 2 3 4]]\n",
      "\n",
      "[[10 22  0 44]]\n"
     ]
    }
   ],
   "source": [
    "x, y = np.vsplit(hasil, 2)\n",
    "print(x)\n",
    "sps()\n",
    "print(y)"
   ]
  },
  {
   "cell_type": "code",
   "execution_count": 19,
   "id": "e62f0d96",
   "metadata": {},
   "outputs": [
    {
     "data": {
      "text/plain": [
       "array([ 4, 10, 22, 44])"
      ]
     },
     "execution_count": 19,
     "metadata": {},
     "output_type": "execute_result"
    }
   ],
   "source": [
    "h_array = hasil[hasil > 3]\n",
    "h_array"
   ]
  },
  {
   "cell_type": "code",
   "execution_count": 20,
   "id": "51e62421",
   "metadata": {},
   "outputs": [
    {
     "name": "stdout",
     "output_type": "stream",
     "text": [
      "[[  1   0   0   0   0   9   9   9   0]\n",
      " [  0   1   0   0   0   9   9   9   0]\n",
      " [  0   0   1   0   0   9   9   9   0]\n",
      " [  0   0   0   1   0   0   0   0   0]\n",
      " [  0   0   0   0   1   0   0   0   0]\n",
      " [  0   0   0   0   0   1   0   0   0]\n",
      " [  0   1   1   1   0   0   1   0   0]\n",
      " [  0   1 100   1   0   0   0   1   0]\n",
      " [  0   1   1   1   0   0   0   0   1]]\n",
      "\n",
      "[1 1 1 1 1 1 1 1 1]\n",
      "\n",
      "[  1 100   1   0   0   0   9   0]\n"
     ]
    },
    {
     "data": {
      "text/plain": [
       "array([[  0,   1,   0,   9],\n",
       "       [  0,   0,   0,   0],\n",
       "       [  0,   0,   1,   0],\n",
       "       [  0,   0,   0,   0],\n",
       "       [  1,   1,   0,   0],\n",
       "       [  1, 100,   0,   1],\n",
       "       [  1,   1,   0,   0]], dtype=int32)"
      ]
     },
     "execution_count": 20,
     "metadata": {},
     "output_type": "execute_result"
    }
   ],
   "source": [
    "print(iden)\n",
    "sps()\n",
    "print(iden[[0, 1, 2, 3, 4, 5, 6, 7, 8], [0, 1, 2, 3, 4, 5, 6, 7, 8]])\n",
    "sps()\n",
    "print(iden[[8, 7, 6, 5, 4, 3, 2 ,1], [1, 2, 3, 4, 5, 6, 7, 8]])\n",
    "iden[2:, [1, 2, 4, 7]]"
   ]
  },
  {
   "cell_type": "markdown",
   "id": "f68ccdc7",
   "metadata": {},
   "source": [
    "# PENGGUNAAN LAMBDA"
   ]
  },
  {
   "cell_type": "code",
   "execution_count": null,
   "id": "c7da55c6",
   "metadata": {},
   "outputs": [],
   "source": []
  },
  {
   "cell_type": "code",
   "execution_count": 21,
   "id": "89563c69",
   "metadata": {},
   "outputs": [
    {
     "name": "stdout",
     "output_type": "stream",
     "text": [
      "[2, 12, 15, 18]\n",
      "[4, 8, 10, 12]\n"
     ]
    },
    {
     "data": {
      "text/plain": [
       "numpy.ndarray"
      ]
     },
     "execution_count": 21,
     "metadata": {},
     "output_type": "execute_result"
    }
   ],
   "source": [
    "def hitung(x): #Contoh Misal dengan funsi\n",
    "    if x > 3:\n",
    "        x *= 3\n",
    "        return x\n",
    "    else:\n",
    "        return x\n",
    "\n",
    "list1 = [2, 4, 5, 6]\n",
    "list2 = list(map(hitung, list1))\n",
    "print(list2)\n",
    "\n",
    "list3 = list(map(lambda x:x*2, list1))\n",
    "list4 = list3\n",
    "print(list3)\n",
    "type(list3)\n",
    "\n",
    "list4 = np.array(list4)\n",
    "type(list4)"
   ]
  },
  {
   "cell_type": "code",
   "execution_count": 26,
   "id": "54fada45",
   "metadata": {},
   "outputs": [
    {
     "name": "stderr",
     "output_type": "stream",
     "text": [
      "/tmp/ipykernel_9769/4281911692.py:1: RuntimeWarning: divide by zero encountered in log\n",
      "  1 - np.log(0)\n"
     ]
    },
    {
     "data": {
      "text/plain": [
       "inf"
      ]
     },
     "execution_count": 26,
     "metadata": {},
     "output_type": "execute_result"
    }
   ],
   "source": []
  },
  {
   "cell_type": "code",
   "execution_count": null,
   "id": "76624df6",
   "metadata": {},
   "outputs": [],
   "source": []
  }
 ],
 "metadata": {
  "kernelspec": {
   "display_name": "Python 3 (ipykernel)",
   "language": "python",
   "name": "python3"
  },
  "language_info": {
   "codemirror_mode": {
    "name": "ipython",
    "version": 3
   },
   "file_extension": ".py",
   "mimetype": "text/x-python",
   "name": "python",
   "nbconvert_exporter": "python",
   "pygments_lexer": "ipython3",
   "version": "3.9.2"
  }
 },
 "nbformat": 4,
 "nbformat_minor": 5
}
